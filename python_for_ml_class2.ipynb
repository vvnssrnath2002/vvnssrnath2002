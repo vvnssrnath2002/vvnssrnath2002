{
  "cells": [
    {
      "cell_type": "markdown",
      "metadata": {
        "id": "view-in-github",
        "colab_type": "text"
      },
      "source": [
        "<a href=\"https://colab.research.google.com/github/vvnssrnath2002/vvnssrnath2002/blob/main/python_for_ml_class2.ipynb\" target=\"_parent\"><img src=\"https://colab.research.google.com/assets/colab-badge.svg\" alt=\"Open In Colab\"/></a>"
      ]
    },
    {
      "cell_type": "code",
      "execution_count": null,
      "metadata": {
        "colab": {
          "base_uri": "https://localhost:8080/"
        },
        "id": "GJt1uuwc9osJ",
        "outputId": "f3e15b03-e010-4fdf-fca3-f6ea50053171"
      },
      "outputs": [
        {
          "name": "stdout",
          "output_type": "stream",
          "text": [
            "Hello,world\n"
          ]
        }
      ],
      "source": [
        "print(\"Hello,world\")"
      ]
    },
    {
      "cell_type": "code",
      "execution_count": null,
      "metadata": {
        "colab": {
          "base_uri": "https://localhost:8080/"
        },
        "id": "5L1w_As2AAY3",
        "outputId": "2a8894ca-3b97-4463-f64f-db7d72f7f3c0"
      },
      "outputs": [
        {
          "name": "stdout",
          "output_type": "stream",
          "text": [
            "Hey 10 2.2 Hello\n"
          ]
        }
      ],
      "source": [
        "print(\"Hey\",10,2.2,\"Hello\")"
      ]
    },
    {
      "cell_type": "code",
      "execution_count": null,
      "metadata": {
        "colab": {
          "base_uri": "https://localhost:8080/"
        },
        "id": "4b8rIJ00AIrT",
        "outputId": "87b2beec-a9e3-4f79-c82b-25b3b602be0b"
      },
      "outputs": [
        {
          "name": "stdout",
          "output_type": "stream",
          "text": [
            "Hello PythonHai\n"
          ]
        }
      ],
      "source": [
        "s=input(\"Hello Python\")"
      ]
    },
    {
      "cell_type": "code",
      "execution_count": null,
      "metadata": {
        "colab": {
          "base_uri": "https://localhost:8080/"
        },
        "id": "1p90oPbhCBi1",
        "outputId": "93ba503f-8699-4487-d701-2974c27b76d4"
      },
      "outputs": [
        {
          "name": "stdout",
          "output_type": "stream",
          "text": [
            "What is your name? Raghunath\n",
            "Hello Raghunath\n",
            "How old are you? 21\n",
            "You are 21 years old\n"
          ]
        }
      ],
      "source": [
        "name=input(\"What is your name? \")\n",
        "print(\"Hello\",name.capitalize())\n",
        "age=input(\"How old are you? \")\n",
        "print(\"You are\",age,\"years old\")\n",
        "\n"
      ]
    },
    {
      "cell_type": "code",
      "execution_count": null,
      "metadata": {
        "colab": {
          "base_uri": "https://localhost:8080/"
        },
        "id": "xaR9pNnVCnDf",
        "outputId": "d8f984cc-8d20-4678-94a4-f112b0b1aa94"
      },
      "outputs": [
        {
          "output_type": "stream",
          "name": "stdout",
          "text": [
            "Saurabh\n"
          ]
        }
      ],
      "source": [
        "s=\"saurabh\"\n",
        "t=s.capitalize()\n",
        "print(t)\n",
        "\n"
      ]
    },
    {
      "cell_type": "code",
      "execution_count": null,
      "metadata": {
        "colab": {
          "base_uri": "https://localhost:8080/"
        },
        "id": "RmqfeQyoDhQA",
        "outputId": "15c769e6-3943-4a72-dbe7-b49d6cd433d9"
      },
      "outputs": [
        {
          "data": {
            "text/plain": [
              "int"
            ]
          },
          "execution_count": 3,
          "metadata": {},
          "output_type": "execute_result"
        }
      ],
      "source": [
        "s=\"This is a string\"\n",
        "a=2\n",
        "b=2.4\n",
        "\n",
        "type(s)\n"
      ]
    },
    {
      "cell_type": "code",
      "execution_count": null,
      "metadata": {
        "colab": {
          "base_uri": "https://localhost:8080/"
        },
        "id": "2MDQZOLc3Acc",
        "outputId": "104cef47-7532-4170-fa8e-eca3612390be"
      },
      "outputs": [
        {
          "name": "stdout",
          "output_type": "stream",
          "text": [
            "Enter the weight in kg:26.7\n",
            "The 26.7 kilograms to lbs is: 58.86282\n"
          ]
        }
      ],
      "source": [
        "kg=float(input(\"Enter the weight in kg:\"))\n",
        "lbs = kg * 2.2046\n",
        "print(f\"The {kg} kilograms to lbs is: {lbs}\")"
      ]
    },
    {
      "cell_type": "code",
      "execution_count": null,
      "metadata": {
        "colab": {
          "base_uri": "https://localhost:8080/"
        },
        "id": "UmqwvQeC4pOT",
        "outputId": "8543630b-1050-4e61-e548-4f8506e60245"
      },
      "outputs": [
        {
          "name": "stdout",
          "output_type": "stream",
          "text": [
            "Enter the radius:5\n",
            "31.400000000000002\n"
          ]
        }
      ],
      "source": [
        "r=float(input(\"Enter the radius:\"))\n",
        "pi=3.14\n",
        "C=2 * pi * r\n",
        "print(C)\n"
      ]
    },
    {
      "cell_type": "code",
      "execution_count": null,
      "metadata": {
        "colab": {
          "base_uri": "https://localhost:8080/"
        },
        "id": "CqATJMbi6OQF",
        "outputId": "ddffaad4-b3a4-4be9-afeb-60194dc4454e"
      },
      "outputs": [
        {
          "name": "stdout",
          "output_type": "stream",
          "text": [
            "2\n"
          ]
        }
      ],
      "source": [
        "num = 10\n",
        "num = num * 3\n",
        "num = num + 6\n",
        "num = num // 3\n",
        "number = num - 10\n",
        "print(number)\n"
      ]
    },
    {
      "cell_type": "code",
      "execution_count": null,
      "metadata": {
        "colab": {
          "base_uri": "https://localhost:8080/"
        },
        "id": "n3Si2F128ciC",
        "outputId": "ccb99fbe-e0f5-4343-ad68-b7f8f230f6a4"
      },
      "outputs": [
        {
          "name": "stdout",
          "output_type": "stream",
          "text": [
            "Enter first number3\n",
            "Enter second number4\n",
            "Product= 12.0\n"
          ]
        }
      ],
      "source": [
        "a=float(input(\"Enter first number\"))\n",
        "b=float(input(\"Enter second number\"))\n",
        "c=a*b\n",
        "print(f\"Product= {c}\")"
      ]
    },
    {
      "cell_type": "code",
      "execution_count": null,
      "metadata": {
        "colab": {
          "base_uri": "https://localhost:8080/"
        },
        "id": "_vgPBnBw_tzY",
        "outputId": "5f9a7b3f-7480-4a27-a758-3647e7d9f833"
      },
      "outputs": [
        {
          "name": "stdout",
          "output_type": "stream",
          "text": [
            "Enter the age of user:22\n",
            "Age in Days is = 8030\n",
            "Age in Hours is = 192720\n",
            "Age in Minutes is = 693792000\n",
            "Age in Seconds is = 41627520000\n"
          ]
        }
      ],
      "source": [
        "years=int(input(\"Enter the age of user:\"))\n",
        "days = years * 365\n",
        "hours = days * 24\n",
        "minutes = hours * 3600\n",
        "seconds = minutes * 60\n",
        "print(f'Age in Days is = {days}')\n",
        "print(f'Age in Hours is = {hours}')\n",
        "print(f'Age in Minutes is = {minutes}')\n",
        "print(f'Age in Seconds is = {seconds}')"
      ]
    },
    {
      "cell_type": "code",
      "execution_count": null,
      "metadata": {
        "colab": {
          "base_uri": "https://localhost:8080/"
        },
        "id": "A7Z1rgxTBssV",
        "outputId": "9a6a21ed-8901-41bf-b2d4-ba396ada28a8"
      },
      "outputs": [
        {
          "name": "stdout",
          "output_type": "stream",
          "text": [
            "Enter the price:400\n",
            "Enter the percentage:5\n",
            "20.0\n"
          ]
        }
      ],
      "source": [
        "price = int(input(\"Enter the price:\"))\n",
        "percent = int(input(\"Enter the percentage:\"))\n",
        "tip = price * percent/100\n",
        "tip = round(tip,2)\n",
        "print(tip)"
      ]
    },
    {
      "cell_type": "code",
      "source": [
        "hrs = float(input(\"Enter the number of hours:\"))\n",
        "rph = float(input(\"Enter the rate per hour of worker:\"))\n",
        "GrossPay = hrs * rph\n",
        "print(GrossPay)"
      ],
      "metadata": {
        "colab": {
          "base_uri": "https://localhost:8080/"
        },
        "id": "S05w5mMB7co5",
        "outputId": "4eec5fbb-8d2b-408c-86f6-a6f890ba88bd"
      },
      "execution_count": null,
      "outputs": [
        {
          "output_type": "stream",
          "name": "stdout",
          "text": [
            "Enter the number of hours:3.5\n",
            "Enter the rate per hour of worker:45.5\n",
            "159.25\n"
          ]
        }
      ]
    },
    {
      "cell_type": "code",
      "source": [
        "hrs = float(input(\"Enter number of hours:\"))\n",
        "rate = float(input(\"Enter the rate:\"))\n",
        "pay = hrs * rate\n",
        "if(hrs>40):\n",
        "   pay = (40 * rate) + (hrs-40) * rate * 1.5\n",
        "else:\n",
        "  pay = pay\n",
        "print(pay)"
      ],
      "metadata": {
        "colab": {
          "base_uri": "https://localhost:8080/"
        },
        "id": "X-ufG17YBahL",
        "outputId": "91d177cd-84fb-49d8-858d-5a3f0495c98d"
      },
      "execution_count": null,
      "outputs": [
        {
          "output_type": "stream",
          "name": "stdout",
          "text": [
            "Enter number of hours:45\n",
            "Enter the rate:10\n",
            "475.0\n"
          ]
        }
      ]
    },
    {
      "cell_type": "code",
      "source": [
        "inp = float(input(\"Enter temperature in Celsius:\"))\n",
        "try:\n",
        "  print(\"Farenheit\")\n",
        "except:\n",
        "  print(\"Enter temperature in digits/numbers\")"
      ],
      "metadata": {
        "colab": {
          "base_uri": "https://localhost:8080/"
        },
        "id": "v3HYfL0EFol9",
        "outputId": "3ab0bc6c-b7e1-450b-e19f-a420b4cbfdc7"
      },
      "execution_count": null,
      "outputs": [
        {
          "output_type": "stream",
          "name": "stdout",
          "text": [
            "Enter temperature in Celsius:30\n",
            "Farenheit\n"
          ]
        }
      ]
    },
    {
      "cell_type": "code",
      "source": [
        "#Car - Ensurance\n",
        "#Goal - Car Ensurance Calculation based on the following data\n",
        "#This is fictional car insurance company call\n",
        "\n",
        "market_price = float(input(\"Enter market price:\"))\n",
        "gender = input(\"Enter the gender:\")\n",
        "def calculate_insurance_premium(market_price,gender):\n",
        "   if gender.lower() == \"male\":\n",
        "    age = int(input(\"Enter your age:\"))\n",
        "    if age <=26:\n",
        "      premium = (23/100)*market_price\n",
        "    else:\n",
        "      premium = (9/100) * market_price\n",
        "\n",
        "  elif gender.lower() == \"female\":\n",
        "    is_sports_car = input(\"Is your car a sports car?(yes/no):\")\n",
        "    if is_sports_car.lower() == \"yes\":\n",
        "      premium = (21/100)*market_price\n",
        "    else:\n",
        "      premium = (10/100)*market_price\n",
        "  else:\n",
        "    print(\"Invalid gender input.\")\n",
        "\n",
        "  return premium\n",
        "\n",
        "premium = calculate_insurance_premium(market_price, gender)\n",
        "print(\"The insurance premium is:\", premium)\n"
      ],
      "metadata": {
        "colab": {
          "base_uri": "https://localhost:8080/"
        },
        "id": "nSyT7jRQ4oey",
        "outputId": "5a61cf21-fca3-4881-9ca8-7c6fdff1a764"
      },
      "execution_count": null,
      "outputs": [
        {
          "output_type": "stream",
          "name": "stdout",
          "text": [
            "Enter market price:20000\n",
            "Enter the gender:male\n",
            "Enter your age:30\n",
            "The insurance premium is: 1800.0\n"
          ]
        }
      ]
    },
    {
      "cell_type": "code",
      "source": [
        "smallest_so_far = 100\n",
        "print('Before',smallest_so_far)\n",
        "for the_num in [9,41,12,3,74,15]:\n",
        "  if the_num < smallest_so_far:\n",
        "    smallest_so_far = the_num\n",
        "  print('smallest_so_far',the_num)\n",
        "\n",
        "print('After',smallest_so_far)\n"
      ],
      "metadata": {
        "colab": {
          "base_uri": "https://localhost:8080/"
        },
        "id": "vmcPGsEPKn8C",
        "outputId": "d563b2a6-ba0a-418a-ecef-9bfe8efb4e7d"
      },
      "execution_count": null,
      "outputs": [
        {
          "output_type": "stream",
          "name": "stdout",
          "text": [
            "Before 100\n",
            "smallest_so_far 9\n",
            "smallest_so_far 41\n",
            "smallest_so_far 12\n",
            "smallest_so_far 3\n",
            "smallest_so_far 74\n",
            "smallest_so_far 15\n",
            "After 3\n"
          ]
        }
      ]
    },
    {
      "cell_type": "code",
      "source": [
        "zork = 0\n",
        "print('Before',zork)\n",
        "for thing in [9,41,12,3,74,15]:\n",
        "  zork = zork+1\n",
        "  print(zork, thing)\n",
        "print('After', zork)"
      ],
      "metadata": {
        "colab": {
          "base_uri": "https://localhost:8080/"
        },
        "id": "Ww5PWFrHMeob",
        "outputId": "e737511d-84e5-4154-bf7e-d4af0f9537d1"
      },
      "execution_count": null,
      "outputs": [
        {
          "output_type": "stream",
          "name": "stdout",
          "text": [
            "Before 0\n",
            "1 9\n",
            "2 41\n",
            "3 12\n",
            "4 3\n",
            "5 74\n",
            "6 15\n",
            "After 6\n"
          ]
        }
      ]
    },
    {
      "cell_type": "code",
      "source": [
        "num_list = []\n",
        "n=int(input(\"Enter the number of elements in the list:\"))\n",
        "for i in range(n):\n",
        "  num = int(input(\"Enter number:\"))\n",
        "  num_list.append(num)\n",
        "sum_of_elements = sum(num_list)\n",
        "print(\"Sum of all elements:\",sum_of_elements)"
      ],
      "metadata": {
        "colab": {
          "base_uri": "https://localhost:8080/"
        },
        "id": "-xk3AGPlw-Ve",
        "outputId": "09e64812-a7a6-41f8-cbb1-b690249cc88c"
      },
      "execution_count": null,
      "outputs": [
        {
          "output_type": "stream",
          "name": "stdout",
          "text": [
            "Enter the number of elements in the list:5\n",
            "Enter number:6\n",
            "Enter number:6\n",
            "Enter number:3\n",
            "Enter number:4\n",
            "Enter number:8\n",
            "Sum of all elements: 27\n"
          ]
        }
      ]
    },
    {
      "cell_type": "code",
      "source": [
        "#largest so far\n",
        "largest_so_far = -1\n",
        "print(\"Before\",largest_so_far)\n",
        "print(\"Current\\tLargest so far\")\n",
        "for the_num in [9,41,12,3,74,15]:\n",
        "  if the_num > largest_so_far:\n",
        "    largest_so_far = the_num\n",
        "  print(largest_so_far,\"\\t\",the_num)\n",
        "print(\"After\",largest_so_far)"
      ],
      "metadata": {
        "colab": {
          "base_uri": "https://localhost:8080/"
        },
        "id": "rlLU6R7D-Qf3",
        "outputId": "ae71924f-ee57-44d6-99dd-05ed897a5d96"
      },
      "execution_count": null,
      "outputs": [
        {
          "output_type": "stream",
          "name": "stdout",
          "text": [
            "Before -1\n",
            "Current\tLargest so far\n",
            "9 \t 9\n",
            "41 \t 41\n",
            "41 \t 12\n",
            "41 \t 3\n",
            "74 \t 74\n",
            "74 \t 15\n",
            "After 74\n"
          ]
        }
      ]
    },
    {
      "cell_type": "code",
      "source": [
        "def computepay(hrs,rate):\n",
        "  pay = hrs * rate\n",
        "  if(hrs>40):\n",
        "      pay = (40 * rate) + (hrs-40) * rate * 1.5\n",
        "  else:\n",
        "      pay = pay\n",
        "  print(pay)\n",
        "computepay(40,10)"
      ],
      "metadata": {
        "colab": {
          "base_uri": "https://localhost:8080/"
        },
        "id": "sEjATS6D_oul",
        "outputId": "2f97efdf-6f38-445b-f116-04ffbc0a39d3"
      },
      "execution_count": null,
      "outputs": [
        {
          "output_type": "stream",
          "name": "stdout",
          "text": [
            "400\n"
          ]
        }
      ]
    },
    {
      "cell_type": "code",
      "source": [
        "list1 = [1,2,\"Hello\",\"Hi\"]\n",
        "print(list1)"
      ],
      "metadata": {
        "colab": {
          "base_uri": "https://localhost:8080/"
        },
        "id": "ueI4n1vrDN-S",
        "outputId": "777c0382-90b8-4366-aec7-22949693a163"
      },
      "execution_count": null,
      "outputs": [
        {
          "output_type": "stream",
          "name": "stdout",
          "text": [
            "[1, 2, 'Hello', 'Hi']\n"
          ]
        }
      ]
    },
    {
      "cell_type": "code",
      "source": [
        "l1 = [1,4,5,7,4,15]\n",
        "print(l1)"
      ],
      "metadata": {
        "colab": {
          "base_uri": "https://localhost:8080/"
        },
        "id": "qOXm7TpiF0uT",
        "outputId": "3999bcf8-6964-44ef-bf8f-d4a5384ea69b"
      },
      "execution_count": null,
      "outputs": [
        {
          "output_type": "stream",
          "name": "stdout",
          "text": [
            "[1, 4, 5, 7, 4, 15]\n"
          ]
        }
      ]
    },
    {
      "cell_type": "code",
      "source": [
        "l1[2:4]"
      ],
      "metadata": {
        "colab": {
          "base_uri": "https://localhost:8080/"
        },
        "id": "vMfIDgzwHndn",
        "outputId": "c832ca21-51b1-499a-903f-dd0e587b09b9"
      },
      "execution_count": null,
      "outputs": [
        {
          "output_type": "execute_result",
          "data": {
            "text/plain": [
              "[5, 7]"
            ]
          },
          "metadata": {},
          "execution_count": 12
        }
      ]
    },
    {
      "cell_type": "code",
      "source": [
        "l1[:4]"
      ],
      "metadata": {
        "colab": {
          "base_uri": "https://localhost:8080/"
        },
        "id": "qm4AVxlRHuy1",
        "outputId": "7a214a16-dadd-4bac-cd92-091e7f7db85a"
      },
      "execution_count": null,
      "outputs": [
        {
          "output_type": "execute_result",
          "data": {
            "text/plain": [
              "[1, 4, 5, 7]"
            ]
          },
          "metadata": {},
          "execution_count": 13
        }
      ]
    },
    {
      "cell_type": "code",
      "source": [
        "l1[:-1]"
      ],
      "metadata": {
        "colab": {
          "base_uri": "https://localhost:8080/"
        },
        "id": "AVmr8_-YIVgo",
        "outputId": "78331780-8c49-4e80-aab5-d1eed95de2d3"
      },
      "execution_count": null,
      "outputs": [
        {
          "output_type": "execute_result",
          "data": {
            "text/plain": [
              "[1, 4, 5, 7, 4]"
            ]
          },
          "metadata": {},
          "execution_count": 14
        }
      ]
    },
    {
      "cell_type": "code",
      "source": [
        "print(l1 + list1)"
      ],
      "metadata": {
        "colab": {
          "base_uri": "https://localhost:8080/"
        },
        "id": "229G_FEnIcgv",
        "outputId": "f4df8100-1f4a-4ccb-ae3f-80020d008f45"
      },
      "execution_count": null,
      "outputs": [
        {
          "output_type": "stream",
          "name": "stdout",
          "text": [
            "[1, 4, 5, 7, 4, 15, 1, 2, 'Hello', 'Hi']\n"
          ]
        }
      ]
    },
    {
      "cell_type": "code",
      "source": [
        "print(list1 * 3)"
      ],
      "metadata": {
        "colab": {
          "base_uri": "https://localhost:8080/"
        },
        "id": "e4ZQlN-mIlFN",
        "outputId": "2d60ede8-b7cf-4634-ca97-4c53f5212a95"
      },
      "execution_count": null,
      "outputs": [
        {
          "output_type": "stream",
          "name": "stdout",
          "text": [
            "[1, 2, 'Hello', 'Hi', 1, 2, 'Hello', 'Hi', 1, 2, 'Hello', 'Hi']\n"
          ]
        }
      ]
    },
    {
      "cell_type": "code",
      "source": [
        "l2=[23,24,25,[\"A\",\"LPU\",5],3,2,1]\n",
        "l2[3][1][1]"
      ],
      "metadata": {
        "colab": {
          "base_uri": "https://localhost:8080/",
          "height": 36
        },
        "id": "pkmXXOA_I7hM",
        "outputId": "abd74a37-fd3d-40d7-e644-179aed8ef2dc"
      },
      "execution_count": null,
      "outputs": [
        {
          "output_type": "execute_result",
          "data": {
            "text/plain": [
              "'P'"
            ],
            "application/vnd.google.colaboratory.intrinsic+json": {
              "type": "string"
            }
          },
          "metadata": {},
          "execution_count": 21
        }
      ]
    },
    {
      "cell_type": "code",
      "source": [
        "#lists are mutable\n",
        "list3 = ['a','b','c','d']\n",
        "list3[-1] = 'xyz'\n",
        "list3"
      ],
      "metadata": {
        "colab": {
          "base_uri": "https://localhost:8080/"
        },
        "id": "TlsZJqojJokr",
        "outputId": "c50ac61b-29a9-4d01-da30-71b9f9e2f706"
      },
      "execution_count": null,
      "outputs": [
        {
          "output_type": "execute_result",
          "data": {
            "text/plain": [
              "['a', 'b', 'c', 'xyz']"
            ]
          },
          "metadata": {},
          "execution_count": 24
        }
      ]
    },
    {
      "cell_type": "code",
      "source": [
        "list3.append(\"LPU\")\n",
        "list3"
      ],
      "metadata": {
        "colab": {
          "base_uri": "https://localhost:8080/"
        },
        "id": "4GjsuzK9J9IO",
        "outputId": "f93a0f76-d445-497b-f207-7965315f0743"
      },
      "execution_count": null,
      "outputs": [
        {
          "output_type": "execute_result",
          "data": {
            "text/plain": [
              "['a', 'b', 'c', 'xyz', 'LPU']"
            ]
          },
          "metadata": {},
          "execution_count": 25
        }
      ]
    },
    {
      "cell_type": "code",
      "source": [
        "list3.append(5)\n",
        "list3\n"
      ],
      "metadata": {
        "colab": {
          "base_uri": "https://localhost:8080/"
        },
        "id": "MXLqdVPAKc_t",
        "outputId": "10f56191-0915-4f65-8d20-c84c28eb5d07"
      },
      "execution_count": null,
      "outputs": [
        {
          "output_type": "execute_result",
          "data": {
            "text/plain": [
              "['a', 'b', 'c', 'xyz', 'LPU', 5, 5, 5, 5, 5]"
            ]
          },
          "metadata": {},
          "execution_count": 30
        }
      ]
    },
    {
      "cell_type": "code",
      "source": [
        "l1.extend(list3)\n",
        "l1\n"
      ],
      "metadata": {
        "colab": {
          "base_uri": "https://localhost:8080/"
        },
        "id": "WHZJbkzPKkOo",
        "outputId": "00f72331-898c-460d-df0d-cfa7d3f822c7"
      },
      "execution_count": null,
      "outputs": [
        {
          "output_type": "execute_result",
          "data": {
            "text/plain": [
              "[1, 4, 5, 7, 4, 15, 'a', 'b', 'c', 'xyz', 'LPU', 5, 5, 5, 5, 5]"
            ]
          },
          "metadata": {},
          "execution_count": 31
        }
      ]
    },
    {
      "cell_type": "code",
      "source": [
        "list3"
      ],
      "metadata": {
        "colab": {
          "base_uri": "https://localhost:8080/"
        },
        "id": "MiDIPzk-LFw5",
        "outputId": "ded29191-7145-4bab-9b85-ed4e5abf06a0"
      },
      "execution_count": null,
      "outputs": [
        {
          "output_type": "execute_result",
          "data": {
            "text/plain": [
              "['a', 'b', 'c', 'xyz', 'LPU', 5, 5, 5, 5, 5]"
            ]
          },
          "metadata": {},
          "execution_count": 32
        }
      ]
    },
    {
      "cell_type": "code",
      "source": [
        "t1 = (1,2,3,4)\n",
        "print(t1)\n",
        "print(type(t1))"
      ],
      "metadata": {
        "colab": {
          "base_uri": "https://localhost:8080/"
        },
        "id": "r4xcc7InLX9n",
        "outputId": "726067af-0f7c-4848-c075-1943f20693fd"
      },
      "execution_count": null,
      "outputs": [
        {
          "output_type": "stream",
          "name": "stdout",
          "text": [
            "(1, 2, 3, 4)\n",
            "<class 'tuple'>\n"
          ]
        }
      ]
    },
    {
      "cell_type": "code",
      "source": [
        "t2 = (5)\n",
        "print(type(t2))"
      ],
      "metadata": {
        "colab": {
          "base_uri": "https://localhost:8080/"
        },
        "id": "UAySLBRxMEbr",
        "outputId": "a4d05250-04c5-41bf-b56f-c5df4c16ad9f"
      },
      "execution_count": null,
      "outputs": [
        {
          "output_type": "stream",
          "name": "stdout",
          "text": [
            "<class 'int'>\n"
          ]
        }
      ]
    },
    {
      "cell_type": "code",
      "source": [
        "t2 = (5,)\n",
        "print(type(t2))"
      ],
      "metadata": {
        "colab": {
          "base_uri": "https://localhost:8080/"
        },
        "id": "XGJHIM-wMTJv",
        "outputId": "b988789f-6f02-419c-a5f5-bc16b72fc57f"
      },
      "execution_count": null,
      "outputs": [
        {
          "output_type": "stream",
          "name": "stdout",
          "text": [
            "<class 'tuple'>\n"
          ]
        }
      ]
    },
    {
      "cell_type": "code",
      "source": [
        "empty_list = []\n",
        "print(type(empty_list))"
      ],
      "metadata": {
        "colab": {
          "base_uri": "https://localhost:8080/"
        },
        "id": "GFaqXyfWMxnt",
        "outputId": "1c4525ac-0c20-4d82-aedf-379eb3f67801"
      },
      "execution_count": null,
      "outputs": [
        {
          "output_type": "stream",
          "name": "stdout",
          "text": [
            "<class 'list'>\n"
          ]
        }
      ]
    },
    {
      "cell_type": "code",
      "source": [
        "empty_tuple = ()\n",
        "print(type(empty_tuple))"
      ],
      "metadata": {
        "colab": {
          "base_uri": "https://localhost:8080/"
        },
        "id": "OpjdPJRXNgVB",
        "outputId": "f0ad2d94-c292-47ec-969d-2e4de9c855a9"
      },
      "execution_count": null,
      "outputs": [
        {
          "output_type": "stream",
          "name": "stdout",
          "text": [
            "<class 'tuple'>\n"
          ]
        }
      ]
    },
    {
      "cell_type": "code",
      "source": [
        "empty_dict = {}\n",
        "print(type(empty_dict))"
      ],
      "metadata": {
        "colab": {
          "base_uri": "https://localhost:8080/"
        },
        "id": "jRrJ3sFrNyPT",
        "outputId": "34d0fd58-f37a-4508-bb84-6919f2c25569"
      },
      "execution_count": null,
      "outputs": [
        {
          "output_type": "stream",
          "name": "stdout",
          "text": [
            "<class 'dict'>\n"
          ]
        }
      ]
    },
    {
      "cell_type": "code",
      "source": [
        "import random\n",
        "random.randint(1,7)"
      ],
      "metadata": {
        "colab": {
          "base_uri": "https://localhost:8080/"
        },
        "id": "g96jF41_Ozr2",
        "outputId": "8801541a-b0dd-4085-ad2d-f35ca03ddde7"
      },
      "execution_count": null,
      "outputs": [
        {
          "output_type": "execute_result",
          "data": {
            "text/plain": [
              "6"
            ]
          },
          "metadata": {},
          "execution_count": 42
        }
      ]
    },
    {
      "cell_type": "code",
      "source": [
        "# Python program for jumbled words game.\n",
        "\n",
        "# import random module\n",
        "import random\n",
        "\n",
        "\n",
        "# function for choosing random word.\n",
        "def choose():\n",
        "\t# list of word\n",
        "\twords = ['rainbow', 'computer', 'science', 'programming',\n",
        "\t\t\t'mathematics', 'player', 'condition', 'reverse',\n",
        "\t\t\t'water', 'board', 'geeks']\n",
        "\n",
        "\t# choice() method randomly choose\n",
        "\t# any word from the list.\n",
        "\tpick = random.choice(words)\n",
        "\n",
        "\treturn pick\n",
        "\n",
        "\n",
        "# Function for shuffling the\n",
        "# characters of the chosen word.\n",
        "def jumble(word):\n",
        "\t# sample() method shuffling the characters of the word\n",
        "\trandom_word = random.sample(word, len(word))\n",
        "\n",
        "\t# join() method join the elements\n",
        "\t# of the iterator(e.g. list) with particular character .\n",
        "\tjumbled = ''.join(random_word)\n",
        "\treturn jumbled\n",
        "\n",
        "\n",
        "# Function for showing final score.\n",
        "def thank(p1n, p2n, p1, p2):\n",
        "\tprint(p1n, 'Your score is :', p1)\n",
        "\tprint(p2n, 'Your score is :', p2)\n",
        "\n",
        "\t# check_win() function calling\n",
        "\tcheck_win(p1n, p2n, p1, p2)\n",
        "\n",
        "\tprint('Thanks for playing...')\n",
        "\n",
        "\n",
        "# Function for declaring winner\n",
        "def check_win(player1, player2, p1score, p2score):\n",
        "\tif p1score > p2score:\n",
        "\t\tprint(\"winner is :\", player1)\n",
        "\telif p2score > p1score:\n",
        "\t\tprint(\"winner is :\", player2)\n",
        "\telse:\n",
        "\t\tprint(\"Draw..Well Played guys..\")\n",
        "\n",
        "\n",
        "# Function for playing the game.\n",
        "def play():\n",
        "\t# enter player1 and player2 name\n",
        "\tp1name = input(\"player 1, Please enter your name :\")\n",
        "\tp2name = input(\"Player 2 , Please enter your name: \")\n",
        "\n",
        "\t# variable for counting score.\n",
        "\tpp1 = 0\n",
        "\tpp2 = 0\n",
        "\n",
        "\t# variable for counting turn\n",
        "\tturn = 0\n",
        "\n",
        "\t# keep looping\n",
        "\twhile True:\n",
        "\n",
        "\t\t# choose() function calling\n",
        "\t\tpicked_word = choose()\n",
        "\n",
        "\t\t# jumble() function calling\n",
        "\t\tqn = jumble(picked_word)\n",
        "\t\tprint(\"jumbled word is :\", qn)\n",
        "\n",
        "\t\t# checking turn is odd or even\n",
        "\t\tif turn % 2 == 0:\n",
        "\n",
        "\t\t\t# if turn no. is even\n",
        "\t\t\t# player1 turn\n",
        "\t\t\tprint(p1name, 'Your Turn.')\n",
        "\n",
        "\t\t\tans = input(\"what is in your mind? \")\n",
        "\n",
        "\t\t\t# checking ans is equal to picked_word or not\n",
        "\t\t\tif ans == picked_word:\n",
        "\n",
        "\t\t\t\t# incremented by 1\n",
        "\t\t\t\tpp1 += 1\n",
        "\n",
        "\t\t\t\tprint('Your score is :', pp1)\n",
        "\t\t\t\tturn += 1\n",
        "\n",
        "\t\t\telse:\n",
        "\t\t\t\tprint(\"Better luck next time ..\")\n",
        "\n",
        "\t\t\t\t# player 2 turn\n",
        "\t\t\t\tprint(p2name, 'Your turn.')\n",
        "\n",
        "\t\t\t\tans = input('what is in your mind? ')\n",
        "\n",
        "\t\t\t\tif ans == picked_word:\n",
        "\t\t\t\t\tpp2 += 1\n",
        "\t\t\t\t\tprint(\"Your Score is :\", pp2)\n",
        "\n",
        "\t\t\t\telse:\n",
        "\t\t\t\t\tprint(\"Better luck next time...correct word is :\", picked_word)\n",
        "\n",
        "\t\t\t\tc = int(input(\"press 1 to continue and 0 to quit :\"))\n",
        "\n",
        "\t\t\t\t# checking the c is equal to 0 or not\n",
        "\t\t\t\t# if c is equal to 0 then break out\n",
        "\t\t\t\t# of the while loop o/w keep looping.\n",
        "\t\t\t\tif c == 0:\n",
        "\t\t\t\t\t# thank() function calling\n",
        "\t\t\t\t\tthank(p1name, p2name, pp1, pp2)\n",
        "\t\t\t\t\tbreak\n",
        "\n",
        "\t\telse:\n",
        "\n",
        "\t\t\t# if turn no. is odd\n",
        "\t\t\t# player2 turn\n",
        "\t\t\tprint(p2name, 'Your turn.')\n",
        "\t\t\tans = input('what is in your mind? ')\n",
        "\n",
        "\t\t\tif ans == picked_word:\n",
        "\t\t\t\tpp2 += 1\n",
        "\t\t\t\tprint(\"Your Score is :\", pp2)\n",
        "\t\t\t\tturn += 1\n",
        "\n",
        "\t\t\telse:\n",
        "\t\t\t\tprint(\"Better luck next time.. :\")\n",
        "\t\t\t\tprint(p1name, 'Your turn.')\n",
        "\t\t\t\tans = input('what is in your mind? ')\n",
        "\n",
        "\t\t\t\tif ans == picked_word:\n",
        "\t\t\t\t\tpp1 += 1\n",
        "\t\t\t\t\tprint(\"Your Score is :\", pp1)\n",
        "\n",
        "\t\t\t\telse:\n",
        "\t\t\t\t\tprint(\"Better luck next time...correct word is :\", picked_word)\n",
        "\n",
        "\t\t\t\t\tc = int(input(\"press 1 to continue and 0 to quit :\"))\n",
        "\n",
        "\t\t\t\t\tif c == 0:\n",
        "\t\t\t\t\t\t# thank() function calling\n",
        "\t\t\t\t\t\tthank(p1name, p2name, pp1, pp2)\n",
        "\t\t\t\t\t\tbreak\n",
        "\n",
        "\t\t\tc = int(input(\"press 1 to continue and 0 to quit :\"))\n",
        "\t\t\tif c == 0:\n",
        "\t\t\t\t# thank() function calling\n",
        "\t\t\t\tthank(p1name, p2name, pp1, pp2)\n",
        "\t\t\t\tbreak\n",
        "\n",
        "\n",
        "# Driver code\n",
        "if __name__ == '__main__':\n",
        "\n",
        "\t# play() function calling\n",
        "\tplay()\n"
      ],
      "metadata": {
        "colab": {
          "base_uri": "https://localhost:8080/"
        },
        "id": "tcnXKEYKEoS9",
        "outputId": "4a8dc4e0-6efc-446f-8384-c119c72a313f"
      },
      "execution_count": null,
      "outputs": [
        {
          "output_type": "stream",
          "name": "stdout",
          "text": [
            "player 1, Please enter your name :A\n",
            "Player 2 , Please enter your name: B\n",
            "jumbled word is : ewatr\n",
            "A Your Turn.\n",
            "what is in your mind? water\n",
            "Your score is : 1\n",
            "jumbled word is : coonitndi\n",
            "B Your turn.\n",
            "what is in your mind? condition\n",
            "Your Score is : 1\n",
            "press 1 to continue and 0 to quit :0\n",
            "A Your score is : 1\n",
            "B Your score is : 1\n",
            "Draw..Well Played guys..\n",
            "Thanks for playing...\n"
          ]
        }
      ]
    },
    {
      "cell_type": "code",
      "source": [
        "import random\n",
        "words = ['father','enterprise','science','programming','resistance','fiction','condition','reverse','water','board','geeks']\n",
        "word = random.choice(words)\n",
        "print(word)\n",
        "jumbled = random.sample(word,len(word))\n",
        "print(f\"The jumbled word is {jumbled}\")\n",
        "guess = input(\"Type the guessed word:\")\n",
        "if guess==word:\n",
        "  print(\"Correct guess\")\n",
        "else:\n",
        "  print(\"Incorrect guess\")\n"
      ],
      "metadata": {
        "colab": {
          "base_uri": "https://localhost:8080/"
        },
        "id": "nm3jO7CsFTuH",
        "outputId": "83327a43-324f-4034-db47-02ee5aa7ddf3"
      },
      "execution_count": null,
      "outputs": [
        {
          "output_type": "stream",
          "name": "stdout",
          "text": [
            "condition\n",
            "The jumbled word is ['o', 't', 'i', 'd', 'o', 'n', 'c', 'n', 'i']\n",
            "Type the guessed word:condition\n",
            "Correct guess\n"
          ]
        }
      ]
    },
    {
      "cell_type": "code",
      "source": [
        "def fib(n):\n",
        "  if n<=1:\n",
        "    return n\n",
        "  else:\n",
        "    return fib(n-1) + fib(n-2)\n",
        "\n",
        "n = int(input(\"Enter the number of terms:\"))\n",
        "for i in range(n):\n",
        "  print(fib(i))"
      ],
      "metadata": {
        "colab": {
          "base_uri": "https://localhost:8080/"
        },
        "id": "3xobq_WNIq8f",
        "outputId": "91a593f8-2bc7-4709-8666-5880e0f4f14d"
      },
      "execution_count": null,
      "outputs": [
        {
          "output_type": "stream",
          "name": "stdout",
          "text": [
            "Enter the number of terms:5\n",
            "0\n",
            "1\n",
            "1\n",
            "2\n",
            "3\n"
          ]
        }
      ]
    },
    {
      "cell_type": "code",
      "source": [
        "# Recursive Python function to solve the tower of hanoi\n",
        "\n",
        "def TowerOfHanoi(n , source, destination, auxiliary):\n",
        "\tif n==1:\n",
        "\t\tprint (\"Move disk 1 from source\",source,\"to destination\",destination)\n",
        "\t\treturn\n",
        "\tTowerOfHanoi(n-1, source, auxiliary, destination)\n",
        "\tprint (\"Move disk\",n,\"from source\",source,\"to destination\",destination)\n",
        "\tTowerOfHanoi(n-1, auxiliary, destination, source)\n",
        "\n",
        "# Driver code\n",
        "n = int(input(\"Enter the number of disks:\"))\n",
        "TowerOfHanoi(n,'A','B','C')\n",
        "# A, C, B are the name of rods"
      ],
      "metadata": {
        "colab": {
          "base_uri": "https://localhost:8080/"
        },
        "id": "G-c14dqfiykL",
        "outputId": "d28faa03-2811-473a-c251-26e46412a5b3"
      },
      "execution_count": null,
      "outputs": [
        {
          "output_type": "stream",
          "name": "stdout",
          "text": [
            "Enter the number of disks:4\n",
            "Move disk 1 from source A to destination C\n",
            "Move disk 2 from source A to destination B\n",
            "Move disk 1 from source C to destination B\n",
            "Move disk 3 from source A to destination C\n",
            "Move disk 1 from source B to destination A\n",
            "Move disk 2 from source B to destination C\n",
            "Move disk 1 from source A to destination C\n",
            "Move disk 4 from source A to destination B\n",
            "Move disk 1 from source C to destination B\n",
            "Move disk 2 from source C to destination A\n",
            "Move disk 1 from source B to destination A\n",
            "Move disk 3 from source C to destination B\n",
            "Move disk 1 from source A to destination C\n",
            "Move disk 2 from source A to destination B\n",
            "Move disk 1 from source C to destination B\n"
          ]
        }
      ]
    },
    {
      "cell_type": "code",
      "source": [
        "#Rock Paper Scissor Game Program in Python\n",
        "\n",
        "# import random module\n",
        "import random\n",
        "# print multiline instruction\n",
        "# performstring concatenation of string\n",
        "print('Winning rules of the game ROCK PAPER SCISSORS are :\\n'\n",
        "      + \"Rock vs Paper -> Paper wins \\n\"\n",
        "      + \"Rock vs Scissors -> Rock wins \\n\"\n",
        "      + \"Paper vs Scissors -> Scissor wins \\n\")\n",
        "\n",
        "while True:\n",
        "\n",
        "    print(\"Enter your choice \\n 1 - Rock \\n 2 - Paper \\n 3 - Scissors \\n\")\n",
        "\n",
        "    # take the input from user\n",
        "\n",
        "    choice = int(input(\"Enter your choice :\"))\n",
        "\n",
        "    # OR is the short-circuit operator\n",
        "    # if any one of the condition is true\n",
        "    # then it return True value\n",
        "\n",
        "    # looping until user enter invalid input\n",
        "    while choice > 3 or choice < 1:\n",
        "        choice = int(input('Enter a valid choice please '))\n",
        "\n",
        "        # initialize value of choice_name variable\n",
        "    # corresponding to the choice value\n",
        "    if choice == 1:\n",
        "        choice_name = 'Rock'\n",
        "    elif choice == 2:\n",
        "        choice_name = 'Paper'\n",
        "    else:\n",
        "        choice_name = 'Scissors'\n",
        "\n",
        "        # print user choice\n",
        "    print('User choice is \\n', choice_name)\n",
        "    print('Now its Computers Turn....')\n",
        "\n",
        "    # Computer chooses randomly any number\n",
        "    # among 1 , 2 and 3. Using randint method\n",
        "    # of random module\n",
        "    comp_choice = random.randint(1, 3)\n",
        "\n",
        "    # looping until comp_choice value\n",
        "    # is equal to the choice value\n",
        "    while comp_choice == choice:\n",
        "        comp_choice = random.randint(1, 3)\n",
        "\n",
        "     # initialize value of comp_choice_name\n",
        "    # variable corresponding to the choice value\n",
        "    if comp_choice == 1:\n",
        "        comp_choice_name = 'RocK'\n",
        "    elif comp_choice == 2:\n",
        "        comp_choice_name = 'Paper'\n",
        "    else:\n",
        "        comp_choice_name = 'Scissors'\n",
        "    print(\"Computer choice is \\n\", comp_choice_name)\n",
        "    print(choice_name, 'Vs', comp_choice_name)\n",
        "    # we need to check of a draw\n",
        "    if choice == comp_choice:\n",
        "        print('Its a Draw', end=\"\")\n",
        "        result = \"DRAW\"\n",
        "    # condition for winning\n",
        "    if (choice == 1 and comp_choice == 2):\n",
        "        print('paper wins =>', end=\"\")\n",
        "        result = 'Paper'\n",
        "    elif (choice == 2 and comp_choice == 1):\n",
        "        print('paper wins =>', end=\"\")\n",
        "        result = 'Paper'\n",
        "\n",
        "    if (choice == 1 and comp_choice == 3):\n",
        "        print('Rock wins =>\\n', end=\"\")\n",
        "        result = 'Rock'\n",
        "    elif (choice == 3 and comp_choice == 1):\n",
        "        print('Rock wins =>\\n', end=\"\")\n",
        "        result = 'RocK'\n",
        "\n",
        "    if (choice == 2 and comp_choice == 3):\n",
        "        print('Scissors wins =>', end=\"\")\n",
        "        result = 'Scissors'\n",
        "    elif (choice == 3 and comp_choice == 2):\n",
        "        print('Scissors wins =>', end=\"\")\n",
        "        result = 'Rock'\n",
        "     # Printing either user or computer wins or draw\n",
        "    if result == 'DRAW':\n",
        "        print(\"<== Its a tie ==>\")\n",
        "    if result == choice_name:\n",
        "        print(\"<== User wins ==>\")\n",
        "    else:\n",
        "        print(\"<== Computer wins ==>\")\n",
        "    print(\"Do you want to play again? (Y/N)\")\n",
        "    # if user input n or N then condition is True\n",
        "    ans = input().lower()\n",
        "    if ans == 'n':\n",
        "        break\n",
        "# after coming out of the while loop\n",
        "# we print thanks for playing\n",
        "print(\"thanks for playing\")"
      ],
      "metadata": {
        "colab": {
          "base_uri": "https://localhost:8080/"
        },
        "id": "v6d_vK4F83bR",
        "outputId": "36c7ff16-d6ea-49cf-9a41-9336424b6dcb"
      },
      "execution_count": null,
      "outputs": [
        {
          "output_type": "stream",
          "name": "stdout",
          "text": [
            "Winning rules of the game ROCK PAPER SCISSORS are :\n",
            "Rock vs Paper -> Paper wins \n",
            "Rock vs Scissors -> Rock wins \n",
            "Paper vs Scissors -> Scissor wins \n",
            "\n",
            "Enter your choice \n",
            " 1 - Rock \n",
            " 2 - Paper \n",
            " 3 - Scissors \n",
            "\n",
            "Enter your choice :1\n",
            "User choice is \n",
            " Rock\n",
            "Now its Computers Turn....\n",
            "Computer choice is \n",
            " Scissors\n",
            "Rock Vs Scissors\n",
            "Rock wins =>\n",
            "<== User wins ==>\n",
            "Do you want to play again? (Y/N)\n",
            "Y\n",
            "Enter your choice \n",
            " 1 - Rock \n",
            " 2 - Paper \n",
            " 3 - Scissors \n",
            "\n",
            "Enter your choice :2\n",
            "User choice is \n",
            " Paper\n",
            "Now its Computers Turn....\n",
            "Computer choice is \n",
            " Scissors\n",
            "Paper Vs Scissors\n",
            "Scissors wins =><== Computer wins ==>\n",
            "Do you want to play again? (Y/N)\n",
            "N\n",
            "thanks for playing\n"
          ]
        }
      ]
    },
    {
      "cell_type": "code",
      "source": [
        "s1 = 'Hello'\n",
        "s2 = 'There'\n",
        "s1 + s2"
      ],
      "metadata": {
        "colab": {
          "base_uri": "https://localhost:8080/",
          "height": 36
        },
        "id": "hSZepOUeEYu6",
        "outputId": "c5a6033b-33d0-45d2-cb4e-cfde54ef72e0"
      },
      "execution_count": null,
      "outputs": [
        {
          "output_type": "execute_result",
          "data": {
            "text/plain": [
              "'HelloThere'"
            ],
            "application/vnd.google.colaboratory.intrinsic+json": {
              "type": "string"
            }
          },
          "metadata": {},
          "execution_count": 9
        }
      ]
    },
    {
      "cell_type": "code",
      "source": [
        "s4 = input(\"Enter integer number:\")\n",
        "type(s4)\n",
        "s4"
      ],
      "metadata": {
        "colab": {
          "base_uri": "https://localhost:8080/",
          "height": 53
        },
        "id": "OcN0zNXYFQC1",
        "outputId": "9c9aee2e-efe2-4007-c749-c512fc82612f"
      },
      "execution_count": null,
      "outputs": [
        {
          "name": "stdout",
          "output_type": "stream",
          "text": [
            "Enter integer number:123\n"
          ]
        },
        {
          "output_type": "execute_result",
          "data": {
            "text/plain": [
              "'123'"
            ],
            "application/vnd.google.colaboratory.intrinsic+json": {
              "type": "string"
            }
          },
          "metadata": {},
          "execution_count": 11
        }
      ]
    },
    {
      "cell_type": "code",
      "source": [
        "fruit = 'banana'\n",
        "letter  = fruit[0]\n",
        "print(letter)\n",
        "lastletter = fruit[-1]\n",
        "print(lastletter)\n",
        "length = len(fruit)\n",
        "length"
      ],
      "metadata": {
        "colab": {
          "base_uri": "https://localhost:8080/"
        },
        "id": "7Q29gPCEGTFO",
        "outputId": "af97ed1e-d6ed-4652-eec4-e9d1dac48919"
      },
      "execution_count": null,
      "outputs": [
        {
          "output_type": "stream",
          "name": "stdout",
          "text": [
            "b\n",
            "a\n"
          ]
        },
        {
          "output_type": "execute_result",
          "data": {
            "text/plain": [
              "6"
            ]
          },
          "metadata": {},
          "execution_count": 19
        }
      ]
    },
    {
      "cell_type": "code",
      "source": [
        "#looping through the string\n",
        "for i in fruit:\n",
        "  print(i, end=\" \")"
      ],
      "metadata": {
        "colab": {
          "base_uri": "https://localhost:8080/"
        },
        "id": "LztNDKZPHhHr",
        "outputId": "19c9abe0-fb3c-4734-e66d-f333c0a96fef"
      },
      "execution_count": null,
      "outputs": [
        {
          "output_type": "stream",
          "name": "stdout",
          "text": [
            "b a n a n a "
          ]
        }
      ]
    },
    {
      "cell_type": "code",
      "source": [
        "for index,letter in enumerate(fruit):\n",
        "  print(f\"Index:{index}, Letter:{letter}\")"
      ],
      "metadata": {
        "colab": {
          "base_uri": "https://localhost:8080/"
        },
        "id": "v7vRLTuHLfG9",
        "outputId": "5fcd89ea-af1d-4d17-df1a-604bdeeb4ed8"
      },
      "execution_count": null,
      "outputs": [
        {
          "output_type": "stream",
          "name": "stdout",
          "text": [
            "Index:0, Letter:b\n",
            "Index:1, Letter:a\n",
            "Index:2, Letter:n\n",
            "Index:3, Letter:a\n",
            "Index:4, Letter:n\n",
            "Index:5, Letter:a\n"
          ]
        }
      ]
    },
    {
      "cell_type": "code",
      "source": [
        "a = 'Hello Good Morning LPU'\n",
        "a[1:5]\n",
        "a[:-1]"
      ],
      "metadata": {
        "colab": {
          "base_uri": "https://localhost:8080/",
          "height": 36
        },
        "id": "vEa4OtZ0IrWP",
        "outputId": "fe0cc0bb-a05e-405e-c349-fafe28bd3d0f"
      },
      "execution_count": null,
      "outputs": [
        {
          "output_type": "execute_result",
          "data": {
            "text/plain": [
              "'Hello Good Morning LP'"
            ],
            "application/vnd.google.colaboratory.intrinsic+json": {
              "type": "string"
            }
          },
          "metadata": {},
          "execution_count": 26
        }
      ]
    },
    {
      "cell_type": "code",
      "source": [
        "dir(a)"
      ],
      "metadata": {
        "colab": {
          "base_uri": "https://localhost:8080/"
        },
        "id": "nk8A1Gg7KguH",
        "outputId": "ed10104c-a235-403e-dc94-ebbc8c843197"
      },
      "execution_count": null,
      "outputs": [
        {
          "output_type": "execute_result",
          "data": {
            "text/plain": [
              "['__add__',\n",
              " '__class__',\n",
              " '__contains__',\n",
              " '__delattr__',\n",
              " '__dir__',\n",
              " '__doc__',\n",
              " '__eq__',\n",
              " '__format__',\n",
              " '__ge__',\n",
              " '__getattribute__',\n",
              " '__getitem__',\n",
              " '__getnewargs__',\n",
              " '__gt__',\n",
              " '__hash__',\n",
              " '__init__',\n",
              " '__init_subclass__',\n",
              " '__iter__',\n",
              " '__le__',\n",
              " '__len__',\n",
              " '__lt__',\n",
              " '__mod__',\n",
              " '__mul__',\n",
              " '__ne__',\n",
              " '__new__',\n",
              " '__reduce__',\n",
              " '__reduce_ex__',\n",
              " '__repr__',\n",
              " '__rmod__',\n",
              " '__rmul__',\n",
              " '__setattr__',\n",
              " '__sizeof__',\n",
              " '__str__',\n",
              " '__subclasshook__',\n",
              " 'capitalize',\n",
              " 'casefold',\n",
              " 'center',\n",
              " 'count',\n",
              " 'encode',\n",
              " 'endswith',\n",
              " 'expandtabs',\n",
              " 'find',\n",
              " 'format',\n",
              " 'format_map',\n",
              " 'index',\n",
              " 'isalnum',\n",
              " 'isalpha',\n",
              " 'isascii',\n",
              " 'isdecimal',\n",
              " 'isdigit',\n",
              " 'isidentifier',\n",
              " 'islower',\n",
              " 'isnumeric',\n",
              " 'isprintable',\n",
              " 'isspace',\n",
              " 'istitle',\n",
              " 'isupper',\n",
              " 'join',\n",
              " 'ljust',\n",
              " 'lower',\n",
              " 'lstrip',\n",
              " 'maketrans',\n",
              " 'partition',\n",
              " 'removeprefix',\n",
              " 'removesuffix',\n",
              " 'replace',\n",
              " 'rfind',\n",
              " 'rindex',\n",
              " 'rjust',\n",
              " 'rpartition',\n",
              " 'rsplit',\n",
              " 'rstrip',\n",
              " 'split',\n",
              " 'splitlines',\n",
              " 'startswith',\n",
              " 'strip',\n",
              " 'swapcase',\n",
              " 'title',\n",
              " 'translate',\n",
              " 'upper',\n",
              " 'zfill']"
            ]
          },
          "metadata": {},
          "execution_count": 27
        }
      ]
    },
    {
      "cell_type": "code",
      "source": [
        "print(a)\n",
        "'Good' in a"
      ],
      "metadata": {
        "colab": {
          "base_uri": "https://localhost:8080/"
        },
        "id": "k6AL6prnK7AU",
        "outputId": "5d6a6bd0-1d5f-4f73-a45c-c4dfbd20e044"
      },
      "execution_count": null,
      "outputs": [
        {
          "output_type": "stream",
          "name": "stdout",
          "text": [
            "Hello Good Morning LPU\n"
          ]
        },
        {
          "output_type": "execute_result",
          "data": {
            "text/plain": [
              "True"
            ]
          },
          "metadata": {},
          "execution_count": 28
        }
      ]
    },
    {
      "cell_type": "code",
      "source": [
        "\"Very\" in a"
      ],
      "metadata": {
        "colab": {
          "base_uri": "https://localhost:8080/"
        },
        "id": "SI3tmovULM5m",
        "outputId": "521bcd03-2cd0-430d-e913-272935e5cc9e"
      },
      "execution_count": null,
      "outputs": [
        {
          "output_type": "execute_result",
          "data": {
            "text/plain": [
              "False"
            ]
          },
          "metadata": {},
          "execution_count": 29
        }
      ]
    },
    {
      "cell_type": "code",
      "source": [
        "index = a.find('Good')\n",
        "print(index)"
      ],
      "metadata": {
        "colab": {
          "base_uri": "https://localhost:8080/"
        },
        "id": "Rn7NRGUoL1eX",
        "outputId": "0e5145a9-0218-4357-eef3-3857377f8d14"
      },
      "execution_count": null,
      "outputs": [
        {
          "output_type": "stream",
          "name": "stdout",
          "text": [
            "6\n"
          ]
        }
      ]
    },
    {
      "cell_type": "code",
      "source": [
        "a.capitalize()"
      ],
      "metadata": {
        "colab": {
          "base_uri": "https://localhost:8080/",
          "height": 36
        },
        "id": "OQ6tZxLLMJ91",
        "outputId": "4b30148c-4a75-4bfc-a54d-d422de241241"
      },
      "execution_count": null,
      "outputs": [
        {
          "output_type": "execute_result",
          "data": {
            "text/plain": [
              "'Hello good morning lpu'"
            ],
            "application/vnd.google.colaboratory.intrinsic+json": {
              "type": "string"
            }
          },
          "metadata": {},
          "execution_count": 32
        }
      ]
    },
    {
      "cell_type": "code",
      "source": [
        "a.title()"
      ],
      "metadata": {
        "colab": {
          "base_uri": "https://localhost:8080/",
          "height": 36
        },
        "id": "kI5k4IA0MObG",
        "outputId": "bb8ab957-180d-4b32-87a8-3e41db49827e"
      },
      "execution_count": null,
      "outputs": [
        {
          "output_type": "execute_result",
          "data": {
            "text/plain": [
              "'Hello Good Morning Lpu'"
            ],
            "application/vnd.google.colaboratory.intrinsic+json": {
              "type": "string"
            }
          },
          "metadata": {},
          "execution_count": 33
        }
      ]
    },
    {
      "cell_type": "code",
      "source": [
        "\"the boy in a car\".title()"
      ],
      "metadata": {
        "colab": {
          "base_uri": "https://localhost:8080/",
          "height": 36
        },
        "id": "0W3uB097MVtP",
        "outputId": "7fc8c8e4-211f-4c01-9b2e-cfa3b2072ab5"
      },
      "execution_count": null,
      "outputs": [
        {
          "output_type": "execute_result",
          "data": {
            "text/plain": [
              "'The Boy In A Car'"
            ],
            "application/vnd.google.colaboratory.intrinsic+json": {
              "type": "string"
            }
          },
          "metadata": {},
          "execution_count": 34
        }
      ]
    },
    {
      "cell_type": "code",
      "source": [
        "a.replace(\"Good\", \"Wonderful\")"
      ],
      "metadata": {
        "colab": {
          "base_uri": "https://localhost:8080/",
          "height": 36
        },
        "id": "eksUS_fzMhOh",
        "outputId": "ff328b58-cb2d-41a6-e338-6653e3496f94"
      },
      "execution_count": null,
      "outputs": [
        {
          "output_type": "execute_result",
          "data": {
            "text/plain": [
              "'Hello Wonderful Morning LPU'"
            ],
            "application/vnd.google.colaboratory.intrinsic+json": {
              "type": "string"
            }
          },
          "metadata": {},
          "execution_count": 35
        }
      ]
    },
    {
      "cell_type": "code",
      "source": [
        "b = '      Hello LPU '\n",
        "b.lstrip()"
      ],
      "metadata": {
        "colab": {
          "base_uri": "https://localhost:8080/",
          "height": 36
        },
        "id": "JJsYC2WTM3Z0",
        "outputId": "5030a8e0-feb1-454b-8afa-1ef3acedae52"
      },
      "execution_count": null,
      "outputs": [
        {
          "output_type": "execute_result",
          "data": {
            "text/plain": [
              "'Hello LPU '"
            ],
            "application/vnd.google.colaboratory.intrinsic+json": {
              "type": "string"
            }
          },
          "metadata": {},
          "execution_count": 42
        }
      ]
    },
    {
      "cell_type": "code",
      "source": [
        "b.rstrip()\n"
      ],
      "metadata": {
        "colab": {
          "base_uri": "https://localhost:8080/",
          "height": 36
        },
        "id": "emkILvufNSJA",
        "outputId": "8f896e7c-2356-4359-f45c-6d81ab345a34"
      },
      "execution_count": null,
      "outputs": [
        {
          "output_type": "execute_result",
          "data": {
            "text/plain": [
              "'      Hello LPU'"
            ],
            "application/vnd.google.colaboratory.intrinsic+json": {
              "type": "string"
            }
          },
          "metadata": {},
          "execution_count": 43
        }
      ]
    },
    {
      "cell_type": "code",
      "source": [
        "b.strip()"
      ],
      "metadata": {
        "colab": {
          "base_uri": "https://localhost:8080/",
          "height": 36
        },
        "id": "hTrc_SpNNW2T",
        "outputId": "4d75564a-eb55-4227-d0d1-5323edafd2ca"
      },
      "execution_count": null,
      "outputs": [
        {
          "output_type": "execute_result",
          "data": {
            "text/plain": [
              "'Hello LPU'"
            ],
            "application/vnd.google.colaboratory.intrinsic+json": {
              "type": "string"
            }
          },
          "metadata": {},
          "execution_count": 44
        }
      ]
    },
    {
      "cell_type": "code",
      "source": [
        "a= \"riyaz@gmail.com\"\n",
        "print(a.split('@')[1])\n",
        "\n"
      ],
      "metadata": {
        "colab": {
          "base_uri": "https://localhost:8080/"
        },
        "id": "2PW0L-X3NwoO",
        "outputId": "27a58507-f6fe-4abc-cb3b-3dde0fcd54ba"
      },
      "execution_count": null,
      "outputs": [
        {
          "output_type": "stream",
          "name": "stdout",
          "text": [
            "gmail.com\n"
          ]
        }
      ]
    },
    {
      "cell_type": "code",
      "source": [
        "b = ('a')\n",
        "print(type(b))"
      ],
      "metadata": {
        "id": "ne_SKIDNaE_J",
        "colab": {
          "base_uri": "https://localhost:8080/"
        },
        "outputId": "25885d4d-0c27-4019-8932-470f232ffeeb"
      },
      "execution_count": null,
      "outputs": [
        {
          "output_type": "stream",
          "name": "stdout",
          "text": [
            "<class 'str'>\n"
          ]
        }
      ]
    },
    {
      "cell_type": "code",
      "source": [
        "b = ('a',)\n",
        "print(type(b))"
      ],
      "metadata": {
        "colab": {
          "base_uri": "https://localhost:8080/"
        },
        "id": "SJG_Y3VyKZ_S",
        "outputId": "4e5226bc-fdf4-4738-dddb-2c4d469cd34e"
      },
      "execution_count": null,
      "outputs": [
        {
          "output_type": "stream",
          "name": "stdout",
          "text": [
            "<class 'tuple'>\n"
          ]
        }
      ]
    },
    {
      "cell_type": "code",
      "source": [
        "a = (20, 40, 30, 60, 'Good', 'LPU')\n",
        "print(a)\n",
        "type(a)"
      ],
      "metadata": {
        "colab": {
          "base_uri": "https://localhost:8080/"
        },
        "id": "J-aWuyPbKfI8",
        "outputId": "92d7e45a-fd6a-459d-ad07-db0b6baeb751"
      },
      "execution_count": null,
      "outputs": [
        {
          "output_type": "stream",
          "name": "stdout",
          "text": [
            "(20, 40, 30, 60, 'Good', 'LPU')\n"
          ]
        },
        {
          "output_type": "execute_result",
          "data": {
            "text/plain": [
              "tuple"
            ]
          },
          "metadata": {},
          "execution_count": 4
        }
      ]
    },
    {
      "cell_type": "code",
      "source": [
        "print(a[2])\n",
        "print(a[-1])\n",
        "print(a[:4])\n",
        "print(a[:-1])\n",
        "print(a[3:5])"
      ],
      "metadata": {
        "colab": {
          "base_uri": "https://localhost:8080/"
        },
        "id": "XPGPooOFKuxU",
        "outputId": "9fb77193-0b43-4986-d572-8df8b9dc7cf7"
      },
      "execution_count": null,
      "outputs": [
        {
          "output_type": "stream",
          "name": "stdout",
          "text": [
            "30\n",
            "LPU\n",
            "(20, 40, 30, 60)\n",
            "(20, 40, 30, 60, 'Good')\n",
            "(60, 'Good')\n"
          ]
        }
      ]
    },
    {
      "cell_type": "code",
      "source": [
        "c = (1,2,3,4)\n",
        "print(a + c)\n",
        "print(c * 7)"
      ],
      "metadata": {
        "colab": {
          "base_uri": "https://localhost:8080/"
        },
        "id": "yDAvCTNeLQVB",
        "outputId": "107e2c6e-62b8-41fb-f38a-8e3409c697eb"
      },
      "execution_count": null,
      "outputs": [
        {
          "output_type": "stream",
          "name": "stdout",
          "text": [
            "(20, 40, 30, 60, 'Good', 'LPU', 1, 2, 3, 4)\n",
            "(1, 2, 3, 4, 1, 2, 3, 4, 1, 2, 3, 4, 1, 2, 3, 4, 1, 2, 3, 4, 1, 2, 3, 4, 1, 2, 3, 4)\n"
          ]
        }
      ]
    },
    {
      "cell_type": "code",
      "source": [
        "'Good' in a"
      ],
      "metadata": {
        "colab": {
          "base_uri": "https://localhost:8080/"
        },
        "id": "JcivPv75L8Uo",
        "outputId": "e973824a-1178-44e7-827e-1e219e0b47f0"
      },
      "execution_count": null,
      "outputs": [
        {
          "output_type": "execute_result",
          "data": {
            "text/plain": [
              "True"
            ]
          },
          "metadata": {},
          "execution_count": 15
        }
      ]
    },
    {
      "cell_type": "code",
      "source": [
        "1 in c"
      ],
      "metadata": {
        "colab": {
          "base_uri": "https://localhost:8080/"
        },
        "id": "K9_zLHdhMCEl",
        "outputId": "813576f7-7032-4ddb-bbdb-eb220682fb40"
      },
      "execution_count": null,
      "outputs": [
        {
          "output_type": "execute_result",
          "data": {
            "text/plain": [
              "True"
            ]
          },
          "metadata": {},
          "execution_count": 17
        }
      ]
    },
    {
      "cell_type": "code",
      "source": [
        "a == c"
      ],
      "metadata": {
        "colab": {
          "base_uri": "https://localhost:8080/"
        },
        "id": "76nIYQpaMJRG",
        "outputId": "0c730384-e7ef-402e-d353-46e419f2002e"
      },
      "execution_count": null,
      "outputs": [
        {
          "output_type": "execute_result",
          "data": {
            "text/plain": [
              "False"
            ]
          },
          "metadata": {},
          "execution_count": 18
        }
      ]
    },
    {
      "cell_type": "code",
      "source": [
        "a != c"
      ],
      "metadata": {
        "colab": {
          "base_uri": "https://localhost:8080/"
        },
        "id": "e4SSF_KoMNFD",
        "outputId": "9417b7de-92f5-4aa0-ffd5-62097faa1377"
      },
      "execution_count": null,
      "outputs": [
        {
          "output_type": "execute_result",
          "data": {
            "text/plain": [
              "True"
            ]
          },
          "metadata": {},
          "execution_count": 19
        }
      ]
    },
    {
      "cell_type": "code",
      "source": [
        "\n",
        "l1 = ['Python', 'is', 'fun']\n",
        "a,b,c = l1\n",
        "a\n",
        "b\n",
        "c"
      ],
      "metadata": {
        "colab": {
          "base_uri": "https://localhost:8080/",
          "height": 36
        },
        "id": "Y6SlSPhLMXS8",
        "outputId": "eab717c1-40ae-4ee9-e953-5881a59b9e35"
      },
      "execution_count": null,
      "outputs": [
        {
          "output_type": "execute_result",
          "data": {
            "text/plain": [
              "'fun'"
            ],
            "application/vnd.google.colaboratory.intrinsic+json": {
              "type": "string"
            }
          },
          "metadata": {},
          "execution_count": 23
        }
      ]
    },
    {
      "cell_type": "code",
      "source": [
        "d, e = 1, 2\n",
        "d"
      ],
      "metadata": {
        "colab": {
          "base_uri": "https://localhost:8080/"
        },
        "id": "KysaBZNOM4-F",
        "outputId": "e2974b1b-7f90-4e6d-d3d6-adc7642f1a7f"
      },
      "execution_count": null,
      "outputs": [
        {
          "output_type": "execute_result",
          "data": {
            "text/plain": [
              "1"
            ]
          },
          "metadata": {},
          "execution_count": 26
        }
      ]
    },
    {
      "cell_type": "code",
      "source": [
        "e"
      ],
      "metadata": {
        "colab": {
          "base_uri": "https://localhost:8080/"
        },
        "id": "IEnycwqQNBVY",
        "outputId": "8dbedbc3-1602-4396-bfbe-5bba612e42b1"
      },
      "execution_count": null,
      "outputs": [
        {
          "output_type": "execute_result",
          "data": {
            "text/plain": [
              "2"
            ]
          },
          "metadata": {},
          "execution_count": 27
        }
      ]
    },
    {
      "cell_type": "code",
      "source": [
        "a = 20\n",
        "b = 30\n",
        "(a, b) = (b, a)\n",
        "print(f\"The value of a is {a} and b is {b}\")"
      ],
      "metadata": {
        "colab": {
          "base_uri": "https://localhost:8080/"
        },
        "id": "oItZqKlcNDww",
        "outputId": "d9ef6146-3ef1-45ea-d086-8a77cd8deaf7"
      },
      "execution_count": null,
      "outputs": [
        {
          "output_type": "stream",
          "name": "stdout",
          "text": [
            "The value of a is 30 and b is 20\n"
          ]
        }
      ]
    },
    {
      "cell_type": "code",
      "source": [
        "[a, b] = [b, a]\n",
        "print(a)"
      ],
      "metadata": {
        "colab": {
          "base_uri": "https://localhost:8080/"
        },
        "id": "y36SmUKJNp8S",
        "outputId": "125439fc-613e-411a-939a-8a47d5ec78a1"
      },
      "execution_count": null,
      "outputs": [
        {
          "output_type": "stream",
          "name": "stdout",
          "text": [
            "30\n"
          ]
        }
      ]
    },
    {
      "cell_type": "code",
      "source": [
        "tup = tuple(input('Tuple elements: ').split(' '))\n"
      ],
      "metadata": {
        "colab": {
          "base_uri": "https://localhost:8080/"
        },
        "id": "I-PZ9IewN7Hw",
        "outputId": "b04c87de-09bc-408a-dbfb-1feb703647bb"
      },
      "execution_count": null,
      "outputs": [
        {
          "name": "stdout",
          "output_type": "stream",
          "text": [
            "Tuple elements: 1 2 3 4 5\n"
          ]
        }
      ]
    },
    {
      "cell_type": "code",
      "source": [
        "tup"
      ],
      "metadata": {
        "colab": {
          "base_uri": "https://localhost:8080/"
        },
        "id": "8OFDFwIhOOvn",
        "outputId": "8f1b30b2-d67b-4353-8a59-db029b0b6f86"
      },
      "execution_count": null,
      "outputs": [
        {
          "output_type": "execute_result",
          "data": {
            "text/plain": [
              "('1', '2', '3', '4', '5')"
            ]
          },
          "metadata": {},
          "execution_count": 34
        }
      ]
    },
    {
      "cell_type": "code",
      "source": [
        "tup1 = tuple(input('Tuple elements: ').split(','))\n"
      ],
      "metadata": {
        "colab": {
          "base_uri": "https://localhost:8080/"
        },
        "id": "1Ex0bSZ_OXfC",
        "outputId": "18c4adda-6374-4683-9fe4-5ae6583eac06"
      },
      "execution_count": null,
      "outputs": [
        {
          "name": "stdout",
          "output_type": "stream",
          "text": [
            "Tuple elements: 1,2,3,4,5\n"
          ]
        }
      ]
    },
    {
      "cell_type": "code",
      "source": [
        "tup1"
      ],
      "metadata": {
        "colab": {
          "base_uri": "https://localhost:8080/"
        },
        "id": "dbNRi62jOhP1",
        "outputId": "d7f5f032-3e9f-4c40-88b3-fff086fb0bce"
      },
      "execution_count": null,
      "outputs": [
        {
          "output_type": "execute_result",
          "data": {
            "text/plain": [
              "('1', '2', '3', '4', '5')"
            ]
          },
          "metadata": {},
          "execution_count": 39
        }
      ]
    },
    {
      "cell_type": "code",
      "source": [
        "list1 = list(input('Enter list elements: ').split(\",\"))"
      ],
      "metadata": {
        "colab": {
          "base_uri": "https://localhost:8080/"
        },
        "id": "OLacOT0aOtO-",
        "outputId": "bf4e2de8-f959-4786-fb2b-89327035a9d5"
      },
      "execution_count": null,
      "outputs": [
        {
          "name": "stdout",
          "output_type": "stream",
          "text": [
            "Enter list elements: 1,2,3,5,6,Hello\n"
          ]
        }
      ]
    },
    {
      "cell_type": "code",
      "source": [
        "list1"
      ],
      "metadata": {
        "colab": {
          "base_uri": "https://localhost:8080/"
        },
        "id": "st9JuRNDO9xV",
        "outputId": "6e5c09ac-6fde-4a8f-c1f6-ba806f4c68c0"
      },
      "execution_count": null,
      "outputs": [
        {
          "output_type": "execute_result",
          "data": {
            "text/plain": [
              "['1', '2', '3', '5', '6', 'Hello']"
            ]
          },
          "metadata": {},
          "execution_count": 42
        }
      ]
    },
    {
      "cell_type": "code",
      "source": [
        "list2 = [1, 2, 3, 4]\n",
        "print(type(list2))\n",
        "tuple3 = tuple(list2)"
      ],
      "metadata": {
        "colab": {
          "base_uri": "https://localhost:8080/"
        },
        "id": "gLTp-JfGPZMJ",
        "outputId": "448529c2-8c50-4de3-acaa-d00071cdd7c0"
      },
      "execution_count": null,
      "outputs": [
        {
          "output_type": "stream",
          "name": "stdout",
          "text": [
            "<class 'list'>\n"
          ]
        }
      ]
    },
    {
      "cell_type": "code",
      "source": [
        "tuple3"
      ],
      "metadata": {
        "colab": {
          "base_uri": "https://localhost:8080/"
        },
        "id": "mI59-gyZPqef",
        "outputId": "b504c8ba-8623-45df-bbeb-6fe4d690877c"
      },
      "execution_count": null,
      "outputs": [
        {
          "output_type": "execute_result",
          "data": {
            "text/plain": [
              "(1, 2, 3, 4)"
            ]
          },
          "metadata": {},
          "execution_count": 46
        }
      ]
    },
    {
      "cell_type": "code",
      "source": [
        "a = list(input('Enter list elements: ').split(','))\n",
        "b = tuple(a)\n",
        "print(a,b)\n",
        "c = input(\"Enter number to check:\")\n",
        "print(c in b)"
      ],
      "metadata": {
        "colab": {
          "base_uri": "https://localhost:8080/"
        },
        "id": "FHpM6_GuQJ1G",
        "outputId": "fdb8fa03-6058-49e5-af6b-074912d6234a"
      },
      "execution_count": null,
      "outputs": [
        {
          "output_type": "stream",
          "name": "stdout",
          "text": [
            "Enter list elements: 1,2,3,4\n",
            "['1', '2', '3', '4'] ('1', '2', '3', '4')\n",
            "Enter number to check:2\n",
            "True\n"
          ]
        }
      ]
    },
    {
      "cell_type": "code",
      "source": [
        "#Write a program to add an element to a tuple based on the user given values in a specific index. If the index is not in range, print the error message.\n",
        "\n",
        "# Function to add an element at a specified index in a tuple\n",
        "def add_to_tuple(tup, element, index):\n",
        "    if index < 0 or index > len(tup):\n",
        "        print(\"Error: Index is out of range.\")\n",
        "    else:\n",
        "        # Split the tuple and insert the element\n",
        "        new_tup = tup[:index] + (element,) + tup[index:]\n",
        "        print(\"New tuple:\", new_tup)\n",
        "\n",
        "# Input tuple\n",
        "my_tuple = (10, 20, 30, 40)\n",
        "\n",
        "# User input for the element and index\n",
        "new_element = input(\"Enter the element to add: \")\n",
        "index = int(input(f\"Enter the index (0 to {len(my_tuple)}): \"))\n",
        "\n",
        "# Call the function\n",
        "add_to_tuple(my_tuple, new_element, index)"
      ],
      "metadata": {
        "id": "5EN_qr6MSEBq",
        "colab": {
          "base_uri": "https://localhost:8080/"
        },
        "outputId": "3ced9b7f-f02a-4a16-84c4-4f94abfb9830"
      },
      "execution_count": null,
      "outputs": [
        {
          "output_type": "stream",
          "name": "stdout",
          "text": [
            "Enter the element to add: 25\n",
            "Enter the index (0 to 4): 3\n",
            "New tuple: (10, 20, 30, '25', 40)\n"
          ]
        }
      ]
    },
    {
      "cell_type": "code",
      "source": [
        "#10-09-2024\n",
        "\n",
        "#Classes and Objects\n",
        "#Create a class\n",
        "class Employee:\n",
        "  pass\n",
        "#Create instance of the class\n",
        "emp_1 = Employee()\n",
        "#Take input\n",
        "name = input(\"Enter your name: \")\n",
        "#Assign name to the first instance\n",
        "emp_1.name = name\n",
        "#Assign salary to the first instance\n",
        "emp_1.salary = 35000\n",
        "#Print\n",
        "print(emp_1.name)\n",
        "print(emp_1.salary)"
      ],
      "metadata": {
        "colab": {
          "base_uri": "https://localhost:8080/"
        },
        "id": "hDk2xW_-Ot5R",
        "outputId": "3ee113f2-7824-4b1b-83d5-a6bdd391bf52"
      },
      "execution_count": null,
      "outputs": [
        {
          "output_type": "stream",
          "name": "stdout",
          "text": [
            "Enter your name: Raghu Nath\n",
            "Raghu Nath\n",
            "35000\n"
          ]
        }
      ]
    },
    {
      "cell_type": "code",
      "source": [
        "type(Employee)"
      ],
      "metadata": {
        "colab": {
          "base_uri": "https://localhost:8080/"
        },
        "id": "oH3T4Gu1SvaW",
        "outputId": "e94275f7-d7fd-4b54-fd68-63c8ff88f003"
      },
      "execution_count": null,
      "outputs": [
        {
          "output_type": "execute_result",
          "data": {
            "text/plain": [
              "type"
            ]
          },
          "metadata": {},
          "execution_count": 2
        }
      ]
    },
    {
      "cell_type": "code",
      "source": [
        "type(emp_1)\n",
        "type(emp_1.salary)"
      ],
      "metadata": {
        "colab": {
          "base_uri": "https://localhost:8080/"
        },
        "id": "dVoUDlBYS-Ir",
        "outputId": "e82cf5df-60fa-41c8-b3b6-94ea8d4ae872"
      },
      "execution_count": null,
      "outputs": [
        {
          "output_type": "execute_result",
          "data": {
            "text/plain": [
              "int"
            ]
          },
          "metadata": {},
          "execution_count": 4
        }
      ]
    },
    {
      "cell_type": "code",
      "source": [
        "a = 20\n",
        "print(type(a))"
      ],
      "metadata": {
        "colab": {
          "base_uri": "https://localhost:8080/"
        },
        "id": "cWW2J-szTNxw",
        "outputId": "ba2d6844-801b-4a1f-a9a4-fd175108e7de"
      },
      "execution_count": null,
      "outputs": [
        {
          "output_type": "stream",
          "name": "stdout",
          "text": [
            "<class 'int'>\n"
          ]
        }
      ]
    },
    {
      "cell_type": "code",
      "source": [
        "# self is a \"variable\" in python , it is used to access attributes and methods of a class\n",
        "#Self\n",
        "class Manager:\n",
        "  def __init__(self, name, department, salary):\n",
        "    self.name = name\n",
        "    self.department = department\n",
        "    self.salary = salary\n",
        "\n",
        "name = input(\"Enter your name: \")\n",
        "department = input(\"Enter department name: \")\n",
        "salary = int(input(\"Enter salary: \"))\n",
        "#Create object of the class\n",
        "manager_1 = Manager(name, department, salary)\n",
        "print(manager_1.name)\n",
        "print(manager_1.department)\n",
        "print(manager_1.salary)"
      ],
      "metadata": {
        "colab": {
          "base_uri": "https://localhost:8080/"
        },
        "id": "ZO8NudAsTg7G",
        "outputId": "2a9e3d8a-0554-4e94-d0f5-4a9bc51a8c4b"
      },
      "execution_count": null,
      "outputs": [
        {
          "output_type": "stream",
          "name": "stdout",
          "text": [
            "Enter your name: raghu\n",
            "Enter department name: cse\n",
            "Enter salary: 60000\n",
            "raghu\n",
            "cse\n",
            "60000\n"
          ]
        }
      ]
    },
    {
      "cell_type": "code",
      "source": [
        "class Car:\n",
        "  def setName(self, name):\n",
        "    self.name = name\n",
        "  def getName(self):\n",
        "    return self.name\n",
        "\n",
        "Honda = Car()\n",
        "carname = input(\"Enter the car name\")\n",
        "Honda.setName(carname)\n",
        "print(\"Name of the car is: \",Honda.getName())\n"
      ],
      "metadata": {
        "colab": {
          "base_uri": "https://localhost:8080/"
        },
        "id": "0M1vIYNgVpAO",
        "outputId": "474ced1d-526e-4790-87d0-2a2589ad8b82"
      },
      "execution_count": null,
      "outputs": [
        {
          "output_type": "stream",
          "name": "stdout",
          "text": [
            "Enter the car nameJazz\n",
            "Name of the car is:  Jazz\n"
          ]
        }
      ]
    },
    {
      "cell_type": "code",
      "source": [
        "# Define a class Student\n",
        "class Student:\n",
        "  def __init__(self, name, age):\n",
        "    self.name = name\n",
        "    self.age = age\n",
        "\n",
        "name1 = input(\"Enter your name: \")\n",
        "age1 = int(input(\"Enter the age: \"))\n",
        "name2 = input(\"Enter your name: \")\n",
        "age2 = int(input(\"Enter the age: \"))\n",
        "# Create object of the class\n",
        "s1 = Student(name, age)\n",
        "s2 = Student(name, age)\n",
        "print(s1.name1)\n",
        "print(s1.age1)\n",
        "print(s2.name2)\n",
        "print(s2.age2)\n",
        "\n"
      ],
      "metadata": {
        "id": "UzorAoQCV8LD",
        "colab": {
          "base_uri": "https://localhost:8080/",
          "height": 280
        },
        "outputId": "f35c9df1-8da9-41ea-e5aa-380175cfa0b0"
      },
      "execution_count": null,
      "outputs": [
        {
          "name": "stdout",
          "output_type": "stream",
          "text": [
            "Enter your name: raghu\n",
            "Enter the age: 21\n",
            "Enter your name: samy\n",
            "Enter the age: 23\n"
          ]
        },
        {
          "output_type": "error",
          "ename": "AttributeError",
          "evalue": "'Student' object has no attribute 'name1'",
          "traceback": [
            "\u001b[0;31m---------------------------------------------------------------------------\u001b[0m",
            "\u001b[0;31mAttributeError\u001b[0m                            Traceback (most recent call last)",
            "\u001b[0;32m<ipython-input-3-bb131263351b>\u001b[0m in \u001b[0;36m<cell line: 14>\u001b[0;34m()\u001b[0m\n\u001b[1;32m     12\u001b[0m \u001b[0ms1\u001b[0m \u001b[0;34m=\u001b[0m \u001b[0mStudent\u001b[0m\u001b[0;34m(\u001b[0m\u001b[0mname\u001b[0m\u001b[0;34m,\u001b[0m \u001b[0mage\u001b[0m\u001b[0;34m)\u001b[0m\u001b[0;34m\u001b[0m\u001b[0;34m\u001b[0m\u001b[0m\n\u001b[1;32m     13\u001b[0m \u001b[0ms2\u001b[0m \u001b[0;34m=\u001b[0m \u001b[0mStudent\u001b[0m\u001b[0;34m(\u001b[0m\u001b[0mname\u001b[0m\u001b[0;34m,\u001b[0m \u001b[0mage\u001b[0m\u001b[0;34m)\u001b[0m\u001b[0;34m\u001b[0m\u001b[0;34m\u001b[0m\u001b[0m\n\u001b[0;32m---> 14\u001b[0;31m \u001b[0mprint\u001b[0m\u001b[0;34m(\u001b[0m\u001b[0ms1\u001b[0m\u001b[0;34m.\u001b[0m\u001b[0mname1\u001b[0m\u001b[0;34m)\u001b[0m\u001b[0;34m\u001b[0m\u001b[0;34m\u001b[0m\u001b[0m\n\u001b[0m\u001b[1;32m     15\u001b[0m \u001b[0mprint\u001b[0m\u001b[0;34m(\u001b[0m\u001b[0ms1\u001b[0m\u001b[0;34m.\u001b[0m\u001b[0mage1\u001b[0m\u001b[0;34m)\u001b[0m\u001b[0;34m\u001b[0m\u001b[0;34m\u001b[0m\u001b[0m\n\u001b[1;32m     16\u001b[0m \u001b[0mprint\u001b[0m\u001b[0;34m(\u001b[0m\u001b[0ms2\u001b[0m\u001b[0;34m.\u001b[0m\u001b[0mname2\u001b[0m\u001b[0;34m)\u001b[0m\u001b[0;34m\u001b[0m\u001b[0;34m\u001b[0m\u001b[0m\n",
            "\u001b[0;31mAttributeError\u001b[0m: 'Student' object has no attribute 'name1'"
          ]
        }
      ]
    },
    {
      "cell_type": "code",
      "source": [
        "# 17-09-2024\n",
        "# Birthdayboy problem\n",
        "\n",
        "class BirthdayBoy:\n",
        "  def __init__(self,current_year,birth_year,sibling_year):\n",
        "    self.current_year = current_year\n",
        "    self.birth_year = birth_year\n",
        "    self.sibling_year = sibling_year\n",
        "  def age(self):\n",
        "    print(birth_year - sibling_year)\n",
        "current_year = int(input(\"Enter current year:\"))\n",
        "birth_year = int(input(\"Enter birth year:\"))\n",
        "sibling_year = int(input(\"Enter sibling birth year:\"))\n",
        "m = BirthdayBoy(current_year,birth_year,sibling_year)\n",
        "m.age()"
      ],
      "metadata": {
        "colab": {
          "base_uri": "https://localhost:8080/"
        },
        "id": "Se_6xCqdFlDB",
        "outputId": "32ae1688-722f-43c6-f638-6a5ed89e73f8"
      },
      "execution_count": null,
      "outputs": [
        {
          "output_type": "stream",
          "name": "stdout",
          "text": [
            "Enter current year:2024\n",
            "Enter birth year:2000\n",
            "Enter sibling birth year:1992\n",
            "8\n"
          ]
        }
      ]
    },
    {
      "cell_type": "code",
      "source": [
        "# 2nd problem\n",
        "# Point Problem\n",
        "\n",
        "class Point():\n",
        "  def __init__(self,x1,y1,x2,y2):\n",
        "    self.x1 = x1\n",
        "    self.y1 = y1\n",
        "    self.x2 = x2\n",
        "    self.y2 = y2\n",
        "  def slope(self):\n",
        "    print((y2-y1)/(x2-x1))\n",
        "x1=int(input(\"Enter x1 coordinate:\"))\n",
        "y1=int(input(\"Enter y1 coordinate:\"))\n",
        "x2=int(input(\"Enter x2 coordinate:\"))\n",
        "y2=int(input(\"Enter y2 coordinate:\"))\n",
        "m=Point(x1,y1,x2,y2)\n",
        "m.slope()\n",
        "\n"
      ],
      "metadata": {
        "colab": {
          "base_uri": "https://localhost:8080/"
        },
        "id": "SF7KBAHyLpxi",
        "outputId": "938dd90b-e570-4272-b7a7-2238aadfc66d"
      },
      "execution_count": null,
      "outputs": [
        {
          "output_type": "stream",
          "name": "stdout",
          "text": [
            "Enter x1 coordinate:2\n",
            "Enter y1 coordinate:3\n",
            "Enter x2 coordinate:4\n",
            "Enter y2 coordinate:6\n",
            "1.5\n"
          ]
        }
      ]
    },
    {
      "cell_type": "code",
      "source": [
        "# Method Overloading\n",
        "\n",
        "class Greeting:\n",
        "  def sayHello(self,name=None,wish=None):\n",
        "    if name is not None and wish is not None:\n",
        "      print(\"Hello\"+\" \"+name+\" \"+wish)\n",
        "    elif name is not None and wish is None:\n",
        "      print(\"Hello\"+\" \"+name)\n",
        "    else:\n",
        "      print(\"Hello\")\n",
        "\n",
        "greet = Greeting()\n",
        "a = input()\n",
        "b = input()\n",
        "greet.sayHello(a)\n",
        "greet.sayHello(a,b)\n",
        "greet.sayHello()\n"
      ],
      "metadata": {
        "colab": {
          "base_uri": "https://localhost:8080/"
        },
        "id": "UWAYNXmLPDeX",
        "outputId": "559440a4-5aec-4d94-cc10-604088a0ad9c"
      },
      "execution_count": null,
      "outputs": [
        {
          "output_type": "stream",
          "name": "stdout",
          "text": [
            "Raj\n",
            "Good Morning\n",
            "Hello Raj\n",
            "Hello Raj Good Morning\n",
            "Hello\n"
          ]
        }
      ]
    },
    {
      "cell_type": "code",
      "source": [
        "# Inheritance\n",
        "\n",
        "class Car:\n",
        "  def setenginemodel(self, engine):\n",
        "    self.engine = engine\n",
        "  def getenginemodel(self):\n",
        "    return self.engine\n",
        "class Honda(Car):\n",
        "  def setcarmodel(self, model):\n",
        "    self.model = model\n",
        "  def getcarmodel(self):\n",
        "    return self.model\n",
        "mycar = Honda()\n",
        "mycar.setenginemodel(\"EK-1\")\n",
        "mycar.setcarmodel(\"V6\")\n",
        "print(\"Car Details: \")\n",
        "print(mycar.getenginemodel())\n",
        "print(mycar.getcarmodel())\n",
        "\n",
        "\n"
      ],
      "metadata": {
        "colab": {
          "base_uri": "https://localhost:8080/"
        },
        "id": "_yqSwyT3T_kC",
        "outputId": "9d1de055-2c2e-4e86-8f05-64bb6dc44c8a"
      },
      "execution_count": null,
      "outputs": [
        {
          "output_type": "stream",
          "name": "stdout",
          "text": [
            "Car Details: \n",
            "EK-1\n",
            "V6\n"
          ]
        }
      ]
    },
    {
      "cell_type": "code",
      "source": [
        "#Multi-level inheritance is possible in python language\n",
        "\n",
        "class Person:\n",
        "  def setname(self,name):\n",
        "    self.name = name\n",
        "  def getname(self):\n",
        "    return self.name\n",
        "class Student(Person):\n",
        "  def setage(self,age):\n",
        "    self.age = age\n",
        "  def getage(self):\n",
        "    return self.age\n",
        "class Address(Student):\n",
        "  def setaddress(self,address):\n",
        "    self.address = address\n",
        "  def getaddress(self):\n",
        "    return self.address\n",
        "\n",
        "s1 = Address()\n",
        "Name = input(\"Enter Name:\")\n",
        "Age = int(input(\"Enter Age:\"))\n",
        "Place = input(\"Enter Place:\")\n",
        "s1.setage(Age)\n",
        "s1.setname(Name)\n",
        "s1.setaddress(Place)\n",
        "print(s1.getname())\n",
        "print(s1.getage())\n",
        "print(s1.getaddress())\n"
      ],
      "metadata": {
        "colab": {
          "base_uri": "https://localhost:8080/"
        },
        "id": "Oq6uGwAMYTrd",
        "outputId": "0b837809-c56a-4e54-fca0-ddadde53d9ac"
      },
      "execution_count": null,
      "outputs": [
        {
          "output_type": "stream",
          "name": "stdout",
          "text": [
            "Enter Name:Raghu\n",
            "Enter Age:21\n",
            "Enter Place:Hyderabad\n",
            "Raghu\n",
            "21\n",
            "Hyderabad\n"
          ]
        }
      ]
    },
    {
      "cell_type": "code",
      "source": [
        "# 19-09-2024\n",
        "# Create shopping cart application using the concepts of object oriented programming\n",
        "\n",
        "class ShoppingCart():\n",
        "    def __init__(self):\n",
        "        self.item = []\n",
        "\n",
        "    def add_item(self,item_name,quantity,price):\n",
        "        self.item.append({'item_name':item_name, 'quantity':quantity, 'price':price})\n",
        "\n",
        "    def remove_item(self,item_name):\n",
        "        for i in self.item:\n",
        "            if i['item_name'] == item_name:\n",
        "                self.item.remove(i)\n",
        "                break\n",
        "\n",
        "    def show_item(self):\n",
        "        for i in self.item:\n",
        "            total = 0\n",
        "        for i in self.item:\n",
        "            total = total + i['quantity'] * i['price']\n",
        "            print(f\"{i['item_name']} - {i['price']}\")\n",
        "        print(f\"Total value of your Cart is: {total}\")\n",
        "\n"
      ],
      "metadata": {
        "id": "SsWDr-_A1h8I"
      },
      "execution_count": null,
      "outputs": []
    },
    {
      "cell_type": "code",
      "source": [
        "kart = ShoppingCart()\n"
      ],
      "metadata": {
        "id": "AI5aqvsBKJ22"
      },
      "execution_count": null,
      "outputs": []
    },
    {
      "cell_type": "code",
      "source": [
        "kart.add_item(item_name='Orange',quantity=1,price=100)\n",
        "kart.add_item(item_name='Lemon',quantity=1,price=10)\n",
        "kart.add_item(item_name='Apple',quantity=1,price=50)\n",
        "kart.add_item(item_name='Watermelon',quantity=1,price=30)"
      ],
      "metadata": {
        "id": "b0fCtPuiKRKZ"
      },
      "execution_count": null,
      "outputs": []
    },
    {
      "cell_type": "code",
      "source": [
        "kart.show_item()"
      ],
      "metadata": {
        "colab": {
          "base_uri": "https://localhost:8080/"
        },
        "id": "RB-4qMteKnlg",
        "outputId": "9e2fbd66-c802-4346-9a34-383ff7eaa648"
      },
      "execution_count": null,
      "outputs": [
        {
          "output_type": "stream",
          "name": "stdout",
          "text": [
            "Orange - 100\n",
            "Lemon - 10\n",
            "Apple - 50\n",
            "Watermelon - 30\n",
            "Total value of your Cart is: 190\n"
          ]
        }
      ]
    },
    {
      "cell_type": "code",
      "source": [
        "kart.remove_item('Orange')\n",
        "kart.show_item()\n"
      ],
      "metadata": {
        "colab": {
          "base_uri": "https://localhost:8080/"
        },
        "id": "CLMTD6FYOZmk",
        "outputId": "059f7570-6fdd-42e2-d53d-4099ba9025ba"
      },
      "execution_count": null,
      "outputs": [
        {
          "output_type": "stream",
          "name": "stdout",
          "text": [
            "Lemon - 10\n",
            "Apple - 50\n",
            "Watermelon - 30\n",
            "Total value of your Cart is: 90\n"
          ]
        }
      ]
    },
    {
      "cell_type": "code",
      "source": [
        "# 24-09-2024\n",
        "# Exception Handling\n",
        "\n",
        "try:\n",
        "  a=int(input(\"Enter 1st number(a): \"))\n",
        "  b=int(input(\"Enter 2nd number(b): \"))\n",
        "  div=a/b\n",
        "  print(div)\n",
        "except:\n",
        "  print(\"Kindly Enter non zero value of b\")\n"
      ],
      "metadata": {
        "colab": {
          "base_uri": "https://localhost:8080/"
        },
        "id": "38qt8n4LKoLM",
        "outputId": "ce09363c-e132-4d5a-9d56-60a12fab5d4c"
      },
      "execution_count": null,
      "outputs": [
        {
          "output_type": "stream",
          "name": "stdout",
          "text": [
            "Enter 1st number(a): 1\n",
            "Enter 2nd number(b): 0\n",
            "Kindly Enter non zero value of b\n"
          ]
        }
      ]
    },
    {
      "cell_type": "code",
      "source": [
        "a=int(input(\"Enter 1st number(a): \"))\n",
        "b=int(input(\"Enter 2nd number(b): \"))\n",
        "div=a/b\n",
        "print(div)"
      ],
      "metadata": {
        "colab": {
          "base_uri": "https://localhost:8080/",
          "height": 228
        },
        "id": "MihQG-cNLG2M",
        "outputId": "f737f581-2baa-4355-9cae-2db702c4b74e"
      },
      "execution_count": null,
      "outputs": [
        {
          "name": "stdout",
          "output_type": "stream",
          "text": [
            "Enter 1st number(a): 4\n",
            "Enter 2nd number(b): 0\n"
          ]
        },
        {
          "output_type": "error",
          "ename": "ZeroDivisionError",
          "evalue": "division by zero",
          "traceback": [
            "\u001b[0;31m---------------------------------------------------------------------------\u001b[0m",
            "\u001b[0;31mZeroDivisionError\u001b[0m                         Traceback (most recent call last)",
            "\u001b[0;32m<ipython-input-10-f89b0d3fca67>\u001b[0m in \u001b[0;36m<cell line: 3>\u001b[0;34m()\u001b[0m\n\u001b[1;32m      1\u001b[0m \u001b[0ma\u001b[0m\u001b[0;34m=\u001b[0m\u001b[0mint\u001b[0m\u001b[0;34m(\u001b[0m\u001b[0minput\u001b[0m\u001b[0;34m(\u001b[0m\u001b[0;34m\"Enter 1st number(a): \"\u001b[0m\u001b[0;34m)\u001b[0m\u001b[0;34m)\u001b[0m\u001b[0;34m\u001b[0m\u001b[0;34m\u001b[0m\u001b[0m\n\u001b[1;32m      2\u001b[0m \u001b[0mb\u001b[0m\u001b[0;34m=\u001b[0m\u001b[0mint\u001b[0m\u001b[0;34m(\u001b[0m\u001b[0minput\u001b[0m\u001b[0;34m(\u001b[0m\u001b[0;34m\"Enter 2nd number(b): \"\u001b[0m\u001b[0;34m)\u001b[0m\u001b[0;34m)\u001b[0m\u001b[0;34m\u001b[0m\u001b[0;34m\u001b[0m\u001b[0m\n\u001b[0;32m----> 3\u001b[0;31m \u001b[0mdiv\u001b[0m\u001b[0;34m=\u001b[0m\u001b[0ma\u001b[0m\u001b[0;34m/\u001b[0m\u001b[0mb\u001b[0m\u001b[0;34m\u001b[0m\u001b[0;34m\u001b[0m\u001b[0m\n\u001b[0m\u001b[1;32m      4\u001b[0m \u001b[0mprint\u001b[0m\u001b[0;34m(\u001b[0m\u001b[0mdiv\u001b[0m\u001b[0;34m)\u001b[0m\u001b[0;34m\u001b[0m\u001b[0;34m\u001b[0m\u001b[0m\n",
            "\u001b[0;31mZeroDivisionError\u001b[0m: division by zero"
          ]
        }
      ]
    },
    {
      "cell_type": "code",
      "source": [
        "try:\n",
        "  a=int(input(\"Enter 1st number(a): \"))\n",
        "  b=int(input(\"Enter 2nd number(b): \"))\n",
        "  div=a/b\n",
        "  print(div)\n",
        "except ZeroDivisionError:\n",
        "  print(\"Kindly Enter non zero value of b\")\n",
        "except ValueError:\n",
        "  print(\"Invalid input kindly enter integer value\")\n",
        "\n"
      ],
      "metadata": {
        "colab": {
          "base_uri": "https://localhost:8080/"
        },
        "id": "muSm2-N9LhuR",
        "outputId": "1c9d6682-1a6a-45ce-a5d3-e1f787c6bad4"
      },
      "execution_count": null,
      "outputs": [
        {
          "output_type": "stream",
          "name": "stdout",
          "text": [
            "Enter 1st number(a): four\n",
            "Invalid input kindly enter integer value\n"
          ]
        }
      ]
    },
    {
      "cell_type": "code",
      "source": [
        "#Nesting: The process of placing one exception-handling routine within another. Nested routines first search for an exception handler within their scope, moving outward if not found. Exception-handling can be nested as deeply as needed to make your code safe.\n",
        "\n",
        "#Build a python program on nested try-except block.\n",
        "\n",
        "#Write program that repeatedly asks for a whole number input, handling exceptions and allowing users to retry or exit based on their choices.\n",
        "#Firstly, used a while loop to keep prompting the user until they enter a valid whole number.\n",
        "#Inside the loop, used a try block to attempt to convert the user's input to an integer.\n",
        "#If the conversion raises a ValueError, print \"you must enter a whole number!\" and proceed to ask if the user wants to try again (y/n)?.\n",
        "#If the user enters \"y\" (yes), the program should continue the loop.\n",
        "#If the user enters \"n\" (no), or if they enter anything other than \"y\", the program should print \"ok, see you next time!\" and exit the loop.\n",
        "#If the user interrupts the program with a keyboard interrupt (CTRL+C), catch the KeyboardInterrupt exception, print \"You pressed Ctrl+C! See you next time!\" and exit the loop."
      ],
      "metadata": {
        "id": "WIZh7gZdMEwm"
      },
      "execution_count": null,
      "outputs": []
    },
    {
      "cell_type": "code",
      "source": [
        "while True:\n",
        "    try:\n",
        "        # Asking the user for input\n",
        "        user_input = input(\"Please enter a valid whole number: \")\n",
        "\n",
        "        try:\n",
        "            # Attempt to convert the input to an integer\n",
        "            number = int(user_input)\n",
        "            print(f\"You entered the number: {number}\")\n",
        "            break  # Exit the loop if a valid number is entered\n",
        "\n",
        "        except ValueError:\n",
        "            # Handle invalid input (non-integer)\n",
        "            print(\"You must enter a whole number!\")\n",
        "            retry = input(\"Would you like to try again? (y/n): \").strip().lower()\n",
        "\n",
        "            if retry != 'y':\n",
        "                print(\"Ok, see you next time!\")\n",
        "                break  # Exit the loop if user doesn't want to retry\n",
        "\n",
        "    except KeyboardInterrupt:\n",
        "        # Handle the keyboard interrupt (Ctrl+C)\n",
        "        print(\"\\nYou pressed Ctrl+C! See you next time!\")\n",
        "        break  # Exit the loop when Ctrl+C is pressed\n"
      ],
      "metadata": {
        "colab": {
          "base_uri": "https://localhost:8080/"
        },
        "id": "toTKitIWOwUd",
        "outputId": "bac7116c-3855-410c-ba56-d6c8a83b4c34"
      },
      "execution_count": null,
      "outputs": [
        {
          "output_type": "stream",
          "name": "stdout",
          "text": [
            "Please enter a valid whole number: a\n",
            "You must enter a whole number!\n",
            "Would you like to try again? (y/n): n\n",
            "Ok, see you next time!\n"
          ]
        }
      ]
    },
    {
      "cell_type": "code",
      "source": [
        "# Try Except and finally\n",
        "\n",
        "try:\n",
        "  a=int(input(\"Enter 1st number(a): \"))\n",
        "  b=int(input(\"Enter 2nd number(b): \"))\n",
        "  c=a+b\n",
        "  d=a/b\n",
        "  print(\"Try Successful\")\n",
        "except ArithmeticError:\n",
        "  print(\"Arithmetic Error Occured\")\n",
        "except Exception:\n",
        "  print(\"Exception occured\")\n",
        "finally:\n",
        "  print(\"Executed in any condition\")\n",
        "\n",
        "\n"
      ],
      "metadata": {
        "colab": {
          "base_uri": "https://localhost:8080/"
        },
        "id": "mKCpAOkySSa8",
        "outputId": "8e0ef434-33b5-43ce-dcd3-baf3f504f7a4"
      },
      "execution_count": null,
      "outputs": [
        {
          "output_type": "stream",
          "name": "stdout",
          "text": [
            "Enter 1st number(a): 4\n",
            "Enter 2nd number(b): 0\n",
            "Arithmetic Error Occured\n",
            "Executed in any condition\n"
          ]
        }
      ]
    },
    {
      "cell_type": "code",
      "source": [
        "# 2nd method of homework problem of lpu live\n",
        "\n",
        "Try = True\n",
        "while Try:\n",
        "  try:\n",
        "      value = abs(int(input(\"Enter whole number: \")))\n",
        "  except ValueError:\n",
        "    print(\"You must Enter the whole number\")\n",
        "    try:\n",
        "      again = input(\"Try again (y/n): \")\n",
        "    except:\n",
        "      print(\"Ok, see you next time!\")\n",
        "      Try = False\n",
        "    else:\n",
        "      if str.upper(again) == 'N':\n",
        "        Try = False\n",
        "  except keyboardInterrupt:\n",
        "    print(\"You have pressed CTRL + C! see you next time\")\n",
        "    Try=False\n",
        "  else:\n",
        "    print(value)\n",
        "    Try = True\n"
      ],
      "metadata": {
        "colab": {
          "base_uri": "https://localhost:8080/"
        },
        "id": "CI44kaXyTcqf",
        "outputId": "c8efda1c-8c5a-42e3-e79c-52a8ebc394ba"
      },
      "execution_count": null,
      "outputs": [
        {
          "name": "stdout",
          "output_type": "stream",
          "text": [
            "Enter whole number: 12\n",
            "12\n",
            "Enter whole number: aa\n",
            "You must Enter the whole number\n",
            "Try again (y/n): n\n"
          ]
        }
      ]
    },
    {
      "cell_type": "code",
      "source": [
        "try:\n",
        "   age = int(input(\"Enter your age\"))\n",
        "   if age < 0:\n",
        "      raise ValueError(\"Age cannot be negative\")\n",
        "   print(f\"Age when doubled {age * 2}\")\n",
        "except ValueError:\n",
        "    print(\"Age cannot be less than zero\")\n",
        "finally:\n",
        "    print(\"Executed in any condition\")"
      ],
      "metadata": {
        "colab": {
          "base_uri": "https://localhost:8080/"
        },
        "id": "VkAf56ycXHls",
        "outputId": "950aa37a-8c94-4986-ff5d-7da53901261c"
      },
      "execution_count": null,
      "outputs": [
        {
          "output_type": "stream",
          "name": "stdout",
          "text": [
            "Enter your age-5\n",
            "Age cannot be less than zero\n",
            "Executed in any condition\n"
          ]
        }
      ]
    },
    {
      "cell_type": "code",
      "source": [
        "'''Write a user defined exception class and use it in the arithmetic division operation.\n",
        "Define a class OurException with Exception as base class.\n",
        "Inside this class define the constructor i.e. the __init__(self, message) (Here message is an argument that passed).\n",
        "Set self.message = message.\n",
        "Now define a class UsingUserException.\n",
        "Start the try block.\n",
        "Take input a and b from user.\n",
        "Do a condition testing if b == 0, then raise the OurException with a message b should be greater than 0. (Here we call on the format(b) built in function of Python which prints the message with value of b in the correct format).\n",
        "Do the operation a / b and store in d.\n",
        "Print d saying division operation successful with result.\n",
        "Open the except block with OurException with err as its instance.\n",
        "Print \"Raised an User defined Exception: \" , err.message which prints the message that was raised. '''\n",
        "\n",
        "# Defining the user-defined exception class\n",
        "class OurException(Exception):\n",
        "    def __init__(self, message):\n",
        "        self.message = message\n",
        "\n",
        "# Class to demonstrate using the user-defined exception\n",
        "class UsingUserException:\n",
        "\n",
        "    def division_operation():\n",
        "        try:\n",
        "\n",
        "            a = float(input(\"Enter the numerator (a): \"))\n",
        "            b = float(input(\"Enter the denominator (b): \"))\n",
        "\n",
        "            if b == 0:\n",
        "                raise OurException(\"Error: Denominator should be greater than 0. You entered: {}\".format(b))\n",
        "\n",
        "            d = a / b\n",
        "            print(f\"Division operation successful with result: {d:.2f}\")\n",
        "\n",
        "        except OurException as err:\n",
        "            print(\"Raised a User-defined Exception:\", err.message)\n",
        "\n",
        "UsingUserException.division_operation()"
      ],
      "metadata": {
        "colab": {
          "base_uri": "https://localhost:8080/"
        },
        "id": "BmhDdBQEZTgl",
        "outputId": "7459cef9-dc01-4b63-92fc-18243f35b548"
      },
      "execution_count": null,
      "outputs": [
        {
          "output_type": "stream",
          "name": "stdout",
          "text": [
            "Enter the numerator (a): 10\n",
            "Enter the denominator (b): 20\n",
            "Division operation successful with result: 0.50\n"
          ]
        }
      ]
    },
    {
      "cell_type": "code",
      "source": [],
      "metadata": {
        "id": "NDaq3wRUbf7N"
      },
      "execution_count": null,
      "outputs": []
    }
  ],
  "metadata": {
    "colab": {
      "provenance": [],
      "authorship_tag": "ABX9TyPqOpLwX9Mem2B+9O7IXT24",
      "include_colab_link": true
    },
    "kernelspec": {
      "display_name": "Python 3",
      "name": "python3"
    },
    "language_info": {
      "name": "python"
    }
  },
  "nbformat": 4,
  "nbformat_minor": 0
}