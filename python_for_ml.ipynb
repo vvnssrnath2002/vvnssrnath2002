{
  "cells": [
    {
      "cell_type": "markdown",
      "metadata": {
        "id": "view-in-github",
        "colab_type": "text"
      },
      "source": [
        "<a href=\"https://colab.research.google.com/github/vvnssrnath2002/vvnssrnath2002/blob/main/python_for_ml.ipynb\" target=\"_parent\"><img src=\"https://colab.research.google.com/assets/colab-badge.svg\" alt=\"Open In Colab\"/></a>"
      ]
    },
    {
      "cell_type": "code",
      "execution_count": null,
      "metadata": {
        "colab": {
          "base_uri": "https://localhost:8080/"
        },
        "id": "GJt1uuwc9osJ",
        "outputId": "f3e15b03-e010-4fdf-fca3-f6ea50053171"
      },
      "outputs": [
        {
          "name": "stdout",
          "output_type": "stream",
          "text": [
            "Hello,world\n"
          ]
        }
      ],
      "source": [
        "print(\"Hello,world\")"
      ]
    },
    {
      "cell_type": "code",
      "execution_count": null,
      "metadata": {
        "colab": {
          "base_uri": "https://localhost:8080/"
        },
        "id": "5L1w_As2AAY3",
        "outputId": "2a8894ca-3b97-4463-f64f-db7d72f7f3c0"
      },
      "outputs": [
        {
          "name": "stdout",
          "output_type": "stream",
          "text": [
            "Hey 10 2.2 Hello\n"
          ]
        }
      ],
      "source": [
        "print(\"Hey\",10,2.2,\"Hello\")"
      ]
    },
    {
      "cell_type": "code",
      "execution_count": 1,
      "metadata": {
        "colab": {
          "base_uri": "https://localhost:8080/"
        },
        "id": "4b8rIJ00AIrT",
        "outputId": "87b2beec-a9e3-4f79-c82b-25b3b602be0b"
      },
      "outputs": [
        {
          "name": "stdout",
          "output_type": "stream",
          "text": [
            "Hello PythonHai\n"
          ]
        }
      ],
      "source": [
        "s=input(\"Hello Python\")\n",
        "\n",
        "\n",
        "\n"
      ]
    },
    {
      "cell_type": "code",
      "execution_count": null,
      "metadata": {
        "colab": {
          "base_uri": "https://localhost:8080/"
        },
        "id": "1p90oPbhCBi1",
        "outputId": "93ba503f-8699-4487-d701-2974c27b76d4"
      },
      "outputs": [
        {
          "name": "stdout",
          "output_type": "stream",
          "text": [
            "What is your name? Raghunath\n",
            "Hello Raghunath\n",
            "How old are you? 21\n",
            "You are 21 years old\n"
          ]
        }
      ],
      "source": [
        "name=input(\"What is your name? \")\n",
        "print(\"Hello\",name.capitalize())\n",
        "age=input(\"How old are you? \")\n",
        "print(\"You are\",age,\"years old\")\n",
        "\n"
      ]
    },
    {
      "cell_type": "code",
      "execution_count": 2,
      "metadata": {
        "colab": {
          "base_uri": "https://localhost:8080/"
        },
        "id": "xaR9pNnVCnDf",
        "outputId": "d8f984cc-8d20-4678-94a4-f112b0b1aa94"
      },
      "outputs": [
        {
          "output_type": "stream",
          "name": "stdout",
          "text": [
            "Saurabh\n"
          ]
        }
      ],
      "source": [
        "s=\"saurabh\"\n",
        "t=s.capitalize()\n",
        "print(t)\n",
        "\n"
      ]
    },
    {
      "cell_type": "code",
      "execution_count": null,
      "metadata": {
        "colab": {
          "base_uri": "https://localhost:8080/"
        },
        "id": "RmqfeQyoDhQA",
        "outputId": "15c769e6-3943-4a72-dbe7-b49d6cd433d9"
      },
      "outputs": [
        {
          "data": {
            "text/plain": [
              "int"
            ]
          },
          "execution_count": 3,
          "metadata": {},
          "output_type": "execute_result"
        }
      ],
      "source": [
        "s=\"This is a string\"\n",
        "a=2\n",
        "b=2.4\n",
        "\n",
        "type(s)\n"
      ]
    },
    {
      "cell_type": "code",
      "execution_count": null,
      "metadata": {
        "colab": {
          "base_uri": "https://localhost:8080/"
        },
        "id": "2MDQZOLc3Acc",
        "outputId": "104cef47-7532-4170-fa8e-eca3612390be"
      },
      "outputs": [
        {
          "name": "stdout",
          "output_type": "stream",
          "text": [
            "Enter the weight in kg:26.7\n",
            "The 26.7 kilograms to lbs is: 58.86282\n"
          ]
        }
      ],
      "source": [
        "kg=float(input(\"Enter the weight in kg:\"))\n",
        "lbs = kg * 2.2046\n",
        "print(f\"The {kg} kilograms to lbs is: {lbs}\")"
      ]
    },
    {
      "cell_type": "code",
      "execution_count": null,
      "metadata": {
        "colab": {
          "base_uri": "https://localhost:8080/"
        },
        "id": "UmqwvQeC4pOT",
        "outputId": "8543630b-1050-4e61-e548-4f8506e60245"
      },
      "outputs": [
        {
          "name": "stdout",
          "output_type": "stream",
          "text": [
            "Enter the radius:5\n",
            "31.400000000000002\n"
          ]
        }
      ],
      "source": [
        "r=float(input(\"Enter the radius:\"))\n",
        "pi=3.14\n",
        "C=2 * pi * r\n",
        "print(C)\n"
      ]
    },
    {
      "cell_type": "code",
      "execution_count": null,
      "metadata": {
        "colab": {
          "base_uri": "https://localhost:8080/"
        },
        "id": "CqATJMbi6OQF",
        "outputId": "ddffaad4-b3a4-4be9-afeb-60194dc4454e"
      },
      "outputs": [
        {
          "name": "stdout",
          "output_type": "stream",
          "text": [
            "2\n"
          ]
        }
      ],
      "source": [
        "num = 10\n",
        "num = num * 3\n",
        "num = num + 6\n",
        "num = num // 3\n",
        "number = num - 10\n",
        "print(number)\n"
      ]
    },
    {
      "cell_type": "code",
      "execution_count": null,
      "metadata": {
        "colab": {
          "base_uri": "https://localhost:8080/"
        },
        "id": "n3Si2F128ciC",
        "outputId": "ccb99fbe-e0f5-4343-ad68-b7f8f230f6a4"
      },
      "outputs": [
        {
          "name": "stdout",
          "output_type": "stream",
          "text": [
            "Enter first number3\n",
            "Enter second number4\n",
            "Product= 12.0\n"
          ]
        }
      ],
      "source": [
        "a=float(input(\"Enter first number\"))\n",
        "b=float(input(\"Enter second number\"))\n",
        "c=a*b\n",
        "print(f\"Product= {c}\")"
      ]
    },
    {
      "cell_type": "code",
      "execution_count": null,
      "metadata": {
        "colab": {
          "base_uri": "https://localhost:8080/"
        },
        "id": "_vgPBnBw_tzY",
        "outputId": "5f9a7b3f-7480-4a27-a758-3647e7d9f833"
      },
      "outputs": [
        {
          "name": "stdout",
          "output_type": "stream",
          "text": [
            "Enter the age of user:22\n",
            "Age in Days is = 8030\n",
            "Age in Hours is = 192720\n",
            "Age in Minutes is = 693792000\n",
            "Age in Seconds is = 41627520000\n"
          ]
        }
      ],
      "source": [
        "years=int(input(\"Enter the age of user:\"))\n",
        "days = years * 365\n",
        "hours = days * 24\n",
        "minutes = hours * 3600\n",
        "seconds = minutes * 60\n",
        "print(f'Age in Days is = {days}')\n",
        "print(f'Age in Hours is = {hours}')\n",
        "print(f'Age in Minutes is = {minutes}')\n",
        "print(f'Age in Seconds is = {seconds}')"
      ]
    },
    {
      "cell_type": "code",
      "execution_count": null,
      "metadata": {
        "colab": {
          "base_uri": "https://localhost:8080/"
        },
        "id": "A7Z1rgxTBssV",
        "outputId": "9a6a21ed-8901-41bf-b2d4-ba396ada28a8"
      },
      "outputs": [
        {
          "name": "stdout",
          "output_type": "stream",
          "text": [
            "Enter the price:400\n",
            "Enter the percentage:5\n",
            "20.0\n"
          ]
        }
      ],
      "source": [
        "price = int(input(\"Enter the price:\"))\n",
        "percent = int(input(\"Enter the percentage:\"))\n",
        "tip = price * percent/100\n",
        "tip = round(tip,2)\n",
        "print(tip)"
      ]
    },
    {
      "cell_type": "code",
      "source": [
        "hrs = float(input(\"Enter the number of hours:\"))\n",
        "rph = float(input(\"Enter the rate per hour of worker:\"))\n",
        "GrossPay = hrs * rph\n",
        "print(GrossPay)"
      ],
      "metadata": {
        "colab": {
          "base_uri": "https://localhost:8080/"
        },
        "id": "S05w5mMB7co5",
        "outputId": "4eec5fbb-8d2b-408c-86f6-a6f890ba88bd"
      },
      "execution_count": null,
      "outputs": [
        {
          "output_type": "stream",
          "name": "stdout",
          "text": [
            "Enter the number of hours:3.5\n",
            "Enter the rate per hour of worker:45.5\n",
            "159.25\n"
          ]
        }
      ]
    },
    {
      "cell_type": "code",
      "source": [
        "hrs = float(input(\"Enter number of hours:\"))\n",
        "rate = float(input(\"Enter the rate:\"))\n",
        "pay = hrs * rate\n",
        "if(hrs>40):\n",
        "   pay = (40 * rate) + (hrs-40) * rate * 1.5\n",
        "else:\n",
        "  pay = pay\n",
        "\n",
        "print(pay)"
      ],
      "metadata": {
        "colab": {
          "base_uri": "https://localhost:8080/"
        },
        "id": "X-ufG17YBahL",
        "outputId": "91d177cd-84fb-49d8-858d-5a3f0495c98d"
      },
      "execution_count": null,
      "outputs": [
        {
          "output_type": "stream",
          "name": "stdout",
          "text": [
            "Enter number of hours:45\n",
            "Enter the rate:10\n",
            "475.0\n"
          ]
        }
      ]
    },
    {
      "cell_type": "code",
      "source": [
        "inp = float(input(\"Enter temperature in Celsius:\"))\n",
        "try:\n",
        "  print(\"Farenheit\")\n",
        "except:\n",
        "  print(\"Enter temperature in digits/numbers\")"
      ],
      "metadata": {
        "colab": {
          "base_uri": "https://localhost:8080/"
        },
        "id": "v3HYfL0EFol9",
        "outputId": "3ab0bc6c-b7e1-450b-e19f-a420b4cbfdc7"
      },
      "execution_count": null,
      "outputs": [
        {
          "output_type": "stream",
          "name": "stdout",
          "text": [
            "Enter temperature in Celsius:30\n",
            "Farenheit\n"
          ]
        }
      ]
    }
  ],
  "metadata": {
    "colab": {
      "provenance": [],
      "authorship_tag": "ABX9TyPBHoIHmEWHZSTQ9+yHVOf0",
      "include_colab_link": true
    },
    "kernelspec": {
      "display_name": "Python 3",
      "name": "python3"
    },
    "language_info": {
      "name": "python"
    }
  },
  "nbformat": 4,
  "nbformat_minor": 0
}